{
 "cells": [
  {
   "cell_type": "markdown",
   "id": "4acd10aa",
   "metadata": {},
   "source": [
    "# Regular Expressions"
   ]
  },
  {
   "cell_type": "code",
   "execution_count": 1,
   "id": "a0fc177b",
   "metadata": {},
   "outputs": [],
   "source": [
    "import regex\n",
    "import os\n",
    "import re"
   ]
  },
  {
   "cell_type": "markdown",
   "id": "96063e5f",
   "metadata": {},
   "source": [
    "The task is concentrated on using regular expressions for extracting basic information from textual data. You will get more familiar with the regexp features that are particularly important in natural language processing.\n",
    "\n"
   ]
  },
  {
   "cell_type": "markdown",
   "id": "f329db6a",
   "metadata": {},
   "source": [
    "### Read data"
   ]
  },
  {
   "cell_type": "code",
   "execution_count": 2,
   "id": "399beef2",
   "metadata": {},
   "outputs": [],
   "source": [
    "path = \"./ustawy\"\n",
    "ustawy = []\n",
    "os.chdir(path)\n",
    "  \n",
    "def read_text_file(file_path):\n",
    "    with open(file_path, 'r') as f:\n",
    "        ustawy.append(f.read())\n",
    "    \n",
    "# iterate through all file\n",
    "for file in os.listdir():\n",
    "    if file.endswith(\".txt\"):\n",
    "        file_path = f\"{file}\"\n",
    "        read_text_file(file_path)"
   ]
  },
  {
   "cell_type": "code",
   "execution_count": 3,
   "id": "25baf3c3",
   "metadata": {},
   "outputs": [],
   "source": [
    "def count_pattern_occurrences(expression):\n",
    "    counter = 0\n",
    "    for ustawa in ustawy:\n",
    "        pattern = regex.compile(expression, re.I)\n",
    "        counter += len([*regex.finditer(pattern, ustawa)])\n",
    "    return counter"
   ]
  },
  {
   "cell_type": "code",
   "execution_count": 4,
   "id": "e9328894",
   "metadata": {},
   "outputs": [],
   "source": [
    "units = \"((ust\\.)|(art\\.)|(poz\\.)|(rozdział)|§|pkt|lit\\.)\""
   ]
  },
  {
   "cell_type": "markdown",
   "id": "d9712356",
   "metadata": {},
   "source": [
    "For each bill compute the number of the following amendments present in the bill:\n",
    " * addition of a unit (e.g. dodaje się ust. 5a),"
   ]
  },
  {
   "cell_type": "code",
   "execution_count": 5,
   "id": "3d170bed",
   "metadata": {},
   "outputs": [
    {
     "data": {
      "text/plain": [
       "6159"
      ]
     },
     "execution_count": 5,
     "metadata": {},
     "output_type": "execute_result"
    }
   ],
   "source": [
    "addition_expression = fr\"\\sdodaje\\ssię\\s(now[y|e]\\s)?{units}\"\n",
    "count_pattern_occurrences(addition_expression)"
   ]
  },
  {
   "cell_type": "markdown",
   "id": "63cf6e85",
   "metadata": {},
   "source": [
    "* removal of a unit (e.g. w art. 10 ust. 1 pkt 8 skreśla się),"
   ]
  },
  {
   "cell_type": "code",
   "execution_count": 6,
   "id": "f1d566fe",
   "metadata": {},
   "outputs": [
    {
     "data": {
      "text/plain": [
       "2752"
      ]
     },
     "execution_count": 6,
     "metadata": {},
     "output_type": "execute_result"
    }
   ],
   "source": [
    "removal_expression = fr\"(w\\s({units}\\s)\\w+\\s((skreśla)|(uchyla))\\ssię\\s)|(((skreśla)|uchyla)\\ssię\\s{units})\"\n",
    "count_pattern_occurrences(removal_expression)"
   ]
  },
  {
   "cell_type": "markdown",
   "id": "5ffb27da",
   "metadata": {},
   "source": [
    "* change of a unit (e.g. art. 5 otrzymuje brzmienie)."
   ]
  },
  {
   "cell_type": "code",
   "execution_count": 7,
   "id": "84e63803",
   "metadata": {},
   "outputs": [
    {
     "data": {
      "text/plain": [
       "9133"
      ]
     },
     "execution_count": 7,
     "metadata": {},
     "output_type": "execute_result"
    }
   ],
   "source": [
    "change_expression = fr\"{units}.*(otrzymuj[eą]\\s((brzmienie)))\"\n",
    "count_pattern_occurrences(change_expression)"
   ]
  },
  {
   "cell_type": "markdown",
   "id": "6b183bf0",
   "metadata": {},
   "source": [
    "Plot results from point 1 showing how the percentage of amendments of a given type changed in the consecutive years."
   ]
  },
  {
   "cell_type": "code",
   "execution_count": 8,
   "id": "64ba3c4c",
   "metadata": {},
   "outputs": [],
   "source": [
    "from collections import defaultdict\n",
    "\n",
    "aggregate_per_year = defaultdict(lambda: defaultdict(int))\n",
    "for file in os.listdir():\n",
    "    if file.endswith(\".txt\"):\n",
    "        file_path = f\"{file}\"\n",
    "        year = int(file.split('_')[0])  \n",
    "        with open(file_path, 'r') as f:\n",
    "            ustawa = f.read()\n",
    "            pattern = regex.compile(addition_expression, re.I)\n",
    "            aggregate_per_year[year]['addition'] += len([*regex.finditer(pattern, ustawa)])\n",
    "            pattern = regex.compile(removal_expression, re.I)\n",
    "            aggregate_per_year[year]['removal'] += len([*regex.finditer(pattern, ustawa)])\n",
    "            pattern = regex.compile(change_expression, re.I)\n",
    "            aggregate_per_year[year]['change'] += len([*regex.finditer(pattern, ustawa)])"
   ]
  },
  {
   "cell_type": "code",
   "execution_count": 9,
   "id": "760125b7",
   "metadata": {},
   "outputs": [
    {
     "data": {
      "text/html": [
       "<div>\n",
       "<style scoped>\n",
       "    .dataframe tbody tr th:only-of-type {\n",
       "        vertical-align: middle;\n",
       "    }\n",
       "\n",
       "    .dataframe tbody tr th {\n",
       "        vertical-align: top;\n",
       "    }\n",
       "\n",
       "    .dataframe thead th {\n",
       "        text-align: right;\n",
       "    }\n",
       "</style>\n",
       "<table border=\"1\" class=\"dataframe\">\n",
       "  <thead>\n",
       "    <tr style=\"text-align: right;\">\n",
       "      <th></th>\n",
       "      <th>addition</th>\n",
       "      <th>removal</th>\n",
       "      <th>change</th>\n",
       "    </tr>\n",
       "  </thead>\n",
       "  <tbody>\n",
       "    <tr>\n",
       "      <th>1993</th>\n",
       "      <td>34</td>\n",
       "      <td>16</td>\n",
       "      <td>63</td>\n",
       "    </tr>\n",
       "    <tr>\n",
       "      <th>1994</th>\n",
       "      <td>103</td>\n",
       "      <td>50</td>\n",
       "      <td>183</td>\n",
       "    </tr>\n",
       "    <tr>\n",
       "      <th>1995</th>\n",
       "      <td>340</td>\n",
       "      <td>129</td>\n",
       "      <td>385</td>\n",
       "    </tr>\n",
       "    <tr>\n",
       "      <th>1996</th>\n",
       "      <td>512</td>\n",
       "      <td>341</td>\n",
       "      <td>951</td>\n",
       "    </tr>\n",
       "    <tr>\n",
       "      <th>1997</th>\n",
       "      <td>668</td>\n",
       "      <td>414</td>\n",
       "      <td>1097</td>\n",
       "    </tr>\n",
       "    <tr>\n",
       "      <th>1998</th>\n",
       "      <td>222</td>\n",
       "      <td>133</td>\n",
       "      <td>317</td>\n",
       "    </tr>\n",
       "    <tr>\n",
       "      <th>1999</th>\n",
       "      <td>163</td>\n",
       "      <td>87</td>\n",
       "      <td>187</td>\n",
       "    </tr>\n",
       "    <tr>\n",
       "      <th>2000</th>\n",
       "      <td>775</td>\n",
       "      <td>520</td>\n",
       "      <td>1558</td>\n",
       "    </tr>\n",
       "    <tr>\n",
       "      <th>2001</th>\n",
       "      <td>1130</td>\n",
       "      <td>404</td>\n",
       "      <td>1439</td>\n",
       "    </tr>\n",
       "    <tr>\n",
       "      <th>2002</th>\n",
       "      <td>93</td>\n",
       "      <td>23</td>\n",
       "      <td>124</td>\n",
       "    </tr>\n",
       "    <tr>\n",
       "      <th>2003</th>\n",
       "      <td>1057</td>\n",
       "      <td>351</td>\n",
       "      <td>1450</td>\n",
       "    </tr>\n",
       "    <tr>\n",
       "      <th>2004</th>\n",
       "      <td>1062</td>\n",
       "      <td>284</td>\n",
       "      <td>1379</td>\n",
       "    </tr>\n",
       "  </tbody>\n",
       "</table>\n",
       "</div>"
      ],
      "text/plain": [
       "      addition  removal  change\n",
       "1993        34       16      63\n",
       "1994       103       50     183\n",
       "1995       340      129     385\n",
       "1996       512      341     951\n",
       "1997       668      414    1097\n",
       "1998       222      133     317\n",
       "1999       163       87     187\n",
       "2000       775      520    1558\n",
       "2001      1130      404    1439\n",
       "2002        93       23     124\n",
       "2003      1057      351    1450\n",
       "2004      1062      284    1379"
      ]
     },
     "execution_count": 9,
     "metadata": {},
     "output_type": "execute_result"
    }
   ],
   "source": [
    "import pandas as pd\n",
    "df_aggregated = pd.DataFrame.from_dict(aggregate_per_year, orient=\"index\").sort_index()\n",
    "df_aggregated"
   ]
  },
  {
   "cell_type": "code",
   "execution_count": 10,
   "id": "9c6f7756",
   "metadata": {},
   "outputs": [
    {
     "data": {
      "text/html": [
       "<div>\n",
       "<style scoped>\n",
       "    .dataframe tbody tr th:only-of-type {\n",
       "        vertical-align: middle;\n",
       "    }\n",
       "\n",
       "    .dataframe tbody tr th {\n",
       "        vertical-align: top;\n",
       "    }\n",
       "\n",
       "    .dataframe thead th {\n",
       "        text-align: right;\n",
       "    }\n",
       "</style>\n",
       "<table border=\"1\" class=\"dataframe\">\n",
       "  <thead>\n",
       "    <tr style=\"text-align: right;\">\n",
       "      <th></th>\n",
       "      <th>addition fraction</th>\n",
       "      <th>removal fraction</th>\n",
       "      <th>change franction</th>\n",
       "    </tr>\n",
       "  </thead>\n",
       "  <tbody>\n",
       "    <tr>\n",
       "      <th>1993</th>\n",
       "      <td>0.300885</td>\n",
       "      <td>0.141593</td>\n",
       "      <td>0.557522</td>\n",
       "    </tr>\n",
       "    <tr>\n",
       "      <th>1994</th>\n",
       "      <td>0.306548</td>\n",
       "      <td>0.148810</td>\n",
       "      <td>0.544643</td>\n",
       "    </tr>\n",
       "    <tr>\n",
       "      <th>1995</th>\n",
       "      <td>0.398126</td>\n",
       "      <td>0.151054</td>\n",
       "      <td>0.450820</td>\n",
       "    </tr>\n",
       "    <tr>\n",
       "      <th>1996</th>\n",
       "      <td>0.283814</td>\n",
       "      <td>0.189024</td>\n",
       "      <td>0.527162</td>\n",
       "    </tr>\n",
       "    <tr>\n",
       "      <th>1997</th>\n",
       "      <td>0.306563</td>\n",
       "      <td>0.189995</td>\n",
       "      <td>0.503442</td>\n",
       "    </tr>\n",
       "    <tr>\n",
       "      <th>1998</th>\n",
       "      <td>0.330357</td>\n",
       "      <td>0.197917</td>\n",
       "      <td>0.471726</td>\n",
       "    </tr>\n",
       "    <tr>\n",
       "      <th>1999</th>\n",
       "      <td>0.372998</td>\n",
       "      <td>0.199085</td>\n",
       "      <td>0.427918</td>\n",
       "    </tr>\n",
       "    <tr>\n",
       "      <th>2000</th>\n",
       "      <td>0.271644</td>\n",
       "      <td>0.182264</td>\n",
       "      <td>0.546092</td>\n",
       "    </tr>\n",
       "    <tr>\n",
       "      <th>2001</th>\n",
       "      <td>0.380087</td>\n",
       "      <td>0.135890</td>\n",
       "      <td>0.484023</td>\n",
       "    </tr>\n",
       "    <tr>\n",
       "      <th>2002</th>\n",
       "      <td>0.387500</td>\n",
       "      <td>0.095833</td>\n",
       "      <td>0.516667</td>\n",
       "    </tr>\n",
       "    <tr>\n",
       "      <th>2003</th>\n",
       "      <td>0.369839</td>\n",
       "      <td>0.122813</td>\n",
       "      <td>0.507348</td>\n",
       "    </tr>\n",
       "    <tr>\n",
       "      <th>2004</th>\n",
       "      <td>0.389725</td>\n",
       "      <td>0.104220</td>\n",
       "      <td>0.506055</td>\n",
       "    </tr>\n",
       "  </tbody>\n",
       "</table>\n",
       "</div>"
      ],
      "text/plain": [
       "      addition fraction  removal fraction  change franction\n",
       "1993           0.300885          0.141593          0.557522\n",
       "1994           0.306548          0.148810          0.544643\n",
       "1995           0.398126          0.151054          0.450820\n",
       "1996           0.283814          0.189024          0.527162\n",
       "1997           0.306563          0.189995          0.503442\n",
       "1998           0.330357          0.197917          0.471726\n",
       "1999           0.372998          0.199085          0.427918\n",
       "2000           0.271644          0.182264          0.546092\n",
       "2001           0.380087          0.135890          0.484023\n",
       "2002           0.387500          0.095833          0.516667\n",
       "2003           0.369839          0.122813          0.507348\n",
       "2004           0.389725          0.104220          0.506055"
      ]
     },
     "execution_count": 10,
     "metadata": {},
     "output_type": "execute_result"
    }
   ],
   "source": [
    "sum_per_year = df_aggregated['addition'] + df_aggregated['removal'] + df_aggregated['change']\n",
    "fraction_changes = pd.DataFrame(\n",
    "    data = [\n",
    "        df_aggregated['addition'] / sum_per_year, \n",
    "        df_aggregated['removal'] / sum_per_year,\n",
    "        df_aggregated['change'] / sum_per_year\n",
    "    ],\n",
    "    index = ['addition fraction', 'removal fraction', 'change franction']\n",
    ").T\n",
    "fraction_changes"
   ]
  },
  {
   "cell_type": "code",
   "execution_count": 11,
   "id": "f1e950c2",
   "metadata": {},
   "outputs": [
    {
     "data": {
      "text/plain": [
       "<AxesSubplot:>"
      ]
     },
     "execution_count": 11,
     "metadata": {},
     "output_type": "execute_result"
    },
    {
     "data": {
      "image/png": "[encoded data removed]",
      "text/plain": [
       "<Figure size 432x288 with 1 Axes>"
      ]
     },
     "metadata": {
      "needs_background": "light"
     },
     "output_type": "display_data"
    }
   ],
   "source": [
    "fraction_changes.plot()"
   ]
  },
  {
   "cell_type": "markdown",
   "id": "ae17e575",
   "metadata": {},
   "source": [
    "Compute the total number of occurrences of the word ustawa in any inflectional form (ustawa, ustawie, ustawę, etc.) and all spelling forms (ustawa, Ustawa, USTAWA), excluding other words with the same prefix (e.g. ustawić)."
   ]
  },
  {
   "cell_type": "code",
   "execution_count": 56,
   "id": "2216b72f",
   "metadata": {},
   "outputs": [],
   "source": [
    "ustawa_flections = '(ustawa|ustawy|ustawie|ustawę|ustawą|ustawo|ustawy|ustaw|ustawom|ustawami|ustawach)'"
   ]
  },
  {
   "cell_type": "code",
   "execution_count": 58,
   "id": "80951c2b",
   "metadata": {},
   "outputs": [
    {
     "data": {
      "text/plain": [
       "24934"
      ]
     },
     "execution_count": 58,
     "metadata": {},
     "output_type": "execute_result"
    }
   ],
   "source": [
    "ustawa_counter = count_pattern_occurrences(fr'\\b{ustawa_flections}\\b')\n",
    "ustawa_counter"
   ]
  },
  {
   "cell_type": "markdown",
   "id": "052804c5",
   "metadata": {},
   "source": [
    "Compute the total number of occurrences of the same word (same conditions), followed by z dnia expression."
   ]
  },
  {
   "cell_type": "code",
   "execution_count": 59,
   "id": "94065947",
   "metadata": {},
   "outputs": [
    {
     "data": {
      "text/plain": [
       "17418"
      ]
     },
     "execution_count": 59,
     "metadata": {},
     "output_type": "execute_result"
    }
   ],
   "source": [
    "ustawa_with_dnia_counter = count_pattern_occurrences(fr'\\b{ustawa_flections}\\b(?!\\sz\\sdnia)')\n",
    "ustawa_with_dnia_counter"
   ]
  },
  {
   "cell_type": "markdown",
   "id": "a4c022c4",
   "metadata": {},
   "source": [
    "As above, but not followed by z dnia expression. Is the result correct (result 4 =? result 5 + result 6)?"
   ]
  },
  {
   "cell_type": "code",
   "execution_count": 60,
   "id": "cc6ce1a6",
   "metadata": {},
   "outputs": [
    {
     "data": {
      "text/plain": [
       "7516"
      ]
     },
     "execution_count": 60,
     "metadata": {},
     "output_type": "execute_result"
    }
   ],
   "source": [
    "ustawa_without_dnia_counter = count_pattern_occurrences(fr'\\b{ustaw_flections}\\b(?=\\sz\\sdnia)')\n",
    "ustawa_without_dnia_counter"
   ]
  },
  {
   "cell_type": "code",
   "execution_count": 61,
   "id": "30b49c06",
   "metadata": {},
   "outputs": [
    {
     "data": {
      "text/plain": [
       "True"
      ]
     },
     "execution_count": 61,
     "metadata": {},
     "output_type": "execute_result"
    }
   ],
   "source": [
    "ustawa_counter == ustawa_with_dnia_counter + ustawa_without_dnia_counter"
   ]
  },
  {
   "cell_type": "markdown",
   "id": "85526cd8",
   "metadata": {},
   "source": [
    "Compute the total number of occurrences of the word ustawa in any inflectional form, excluding occurrences following o zmianie expression."
   ]
  },
  {
   "cell_type": "code",
   "execution_count": 63,
   "id": "d95311f9",
   "metadata": {},
   "outputs": [
    {
     "data": {
      "text/plain": [
       "24082"
      ]
     },
     "execution_count": 63,
     "metadata": {},
     "output_type": "execute_result"
    }
   ],
   "source": [
    "ustawa_without_o_zmianie = count_pattern_occurrences(fr'(?<!(o\\szmianie\\s))\\b{ustaw_flections}\\b')\n",
    "ustawa_without_o_zmianie"
   ]
  },
  {
   "cell_type": "code",
   "execution_count": 64,
   "id": "0d54cd16",
   "metadata": {},
   "outputs": [
    {
     "data": {
      "image/png": "[encoded data removed]",
      "text/plain": [
       "<Figure size 1080x360 with 1 Axes>"
      ]
     },
     "metadata": {
      "needs_background": "light"
     },
     "output_type": "display_data"
    }
   ],
   "source": [
    "import matplotlib.pyplot as plt\n",
    "fig = plt.figure(figsize=(15,5))\n",
    "plt.bar(\n",
    "    ['ustawa', 'ustawa with dnia', 'ustawa w/o dnina', 'ustawa w/o o zmianie'],\n",
    "    [ustawa_counter,ustawa_with_dnia_counter,ustawa_without_dnia_counter,ustawa_without_o_zmianie]\n",
    ")\n",
    "\n",
    "plt.show()"
   ]
  },
  {
   "cell_type": "code",
   "execution_count": null,
   "id": "778c3ecd",
   "metadata": {},
   "outputs": [],
   "source": []
  }
 ],
 "metadata": {
  "kernelspec": {
   "display_name": "umapkernel",
   "language": "python",
   "name": "umapkernel"
  },
  "language_info": {
   "codemirror_mode": {
    "name": "ipython",
    "version": 3
   },
   "file_extension": ".py",
   "mimetype": "text/x-python",
   "name": "python",
   "nbconvert_exporter": "python",
   "pygments_lexer": "ipython3",
   "version": "3.9.12"
  }
 },
 "nbformat": 4,
 "nbformat_minor": 5
}
