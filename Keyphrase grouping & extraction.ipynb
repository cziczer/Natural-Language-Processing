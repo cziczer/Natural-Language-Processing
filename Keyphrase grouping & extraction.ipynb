{
 "cells": [
  {
   "cell_type": "markdown",
   "id": "3907c864",
   "metadata": {},
   "source": [
    "## Keyphrase grouping"
   ]
  },
  {
   "cell_type": "markdown",
   "id": "6f5fe994",
   "metadata": {},
   "source": [
    "The grouping algorithm is given a number of lists of keyphrases, each list describes one document. Additionaly it may be given those documents (it is up to you to decide). The task is to output partitions of keyphrases that should be merged together and the reference keyphrase they be merged into. E.g. [\"nuclear energy\", \"wind energy\", \"energy\"] -> \"energy\" or [\"wind energy\", \"hydropower\", \"solar energy\"] -> \"renewable energy sources\" (the second example is more difficult to achieve). The algorithm may use any publicly available data or tools, e.g. word embeddings, language models, onthologies or dictionaries."
   ]
  },
  {
   "cell_type": "code",
   "execution_count": 106,
   "id": "46ecc8d8",
   "metadata": {},
   "outputs": [],
   "source": [
    "from nltk.corpus import wordnet as wn"
   ]
  },
  {
   "cell_type": "code",
   "execution_count": 108,
   "id": "1d35f61c",
   "metadata": {},
   "outputs": [
    {
     "name": "stderr",
     "output_type": "stream",
     "text": [
      "[nltk_data] Downloading package wordnet to\n",
      "[nltk_data]     /Users/mmastalerczyk/nltk_data...\n"
     ]
    },
    {
     "data": {
      "text/plain": [
       "True"
      ]
     },
     "execution_count": 108,
     "metadata": {},
     "output_type": "execute_result"
    }
   ],
   "source": [
    "import nltk\n",
    "nltk.download('wordnet')"
   ]
  },
  {
   "cell_type": "code",
   "execution_count": 110,
   "id": "249c582c",
   "metadata": {},
   "outputs": [
    {
     "name": "stderr",
     "output_type": "stream",
     "text": [
      "[nltk_data] Downloading package omw-1.4 to\n",
      "[nltk_data]     /Users/mmastalerczyk/nltk_data...\n"
     ]
    },
    {
     "data": {
      "text/plain": [
       "True"
      ]
     },
     "execution_count": 110,
     "metadata": {},
     "output_type": "execute_result"
    }
   ],
   "source": [
    "nltk.download('omw-1.4')"
   ]
  },
  {
   "cell_type": "code",
   "execution_count": 196,
   "id": "890f34e8",
   "metadata": {},
   "outputs": [],
   "source": [
    "def get_synsets(word):\n",
    "    pl_synsets = wn.synsets(word, lang='pol')\n",
    "    if len(pl_synsets):\n",
    "        return set(pl_synsets)\n",
    "    return set(wn.synsets(word)) # sometimes in pol sysnet we can't get proper names, like opel"
   ]
  },
  {
   "cell_type": "code",
   "execution_count": 307,
   "id": "0045a780",
   "metadata": {},
   "outputs": [],
   "source": [
    "def get_common_hypernyms(synsets):\n",
    "    synsets_list = list(synsets)\n",
    "    if len(synsets_list) == 1:\n",
    "        return set(synsets_list[0].hypernyms()).union(synsets)\n",
    "    hypernyms = set()\n",
    "    for i in range(1, len(synsets_list)):\n",
    "        current_hypernyms = set(synsets_list[i-1].lowest_common_hypernyms(synsets_list[i]))\n",
    "        hypernyms.update(current_hypernyms)\n",
    "    return list(hypernyms)"
   ]
  },
  {
   "cell_type": "code",
   "execution_count": 308,
   "id": "885c5277",
   "metadata": {},
   "outputs": [],
   "source": [
    "def get_hypernyms_counter(synsets_list):\n",
    "    hypernyms_list = []\n",
    "    for i in range(1, len(synsets_list)):\n",
    "        current_hypernyms = set(synsets_list[i-1].lowest_common_hypernyms(synsets_list[i]))\n",
    "        hypernyms_list.extend(current_hypernyms)\n",
    "    from collections import Counter\n",
    "    counted_hypernyms = Counter(hypernyms_list)\n",
    "    return counted_hypernyms"
   ]
  },
  {
   "cell_type": "code",
   "execution_count": 339,
   "id": "6f6b8840",
   "metadata": {},
   "outputs": [],
   "source": [
    "def get_one_word_summary(counter):\n",
    "    counter = dict(counter)\n",
    "    max_value = max(counter.values())\n",
    "    synsets_list = []\n",
    "    for key, value in counter.items():\n",
    "        if value == max_value:\n",
    "            synsets_list.append(key)\n",
    "    if len(synsets_list) == 1:\n",
    "        return synsets_list[0]\n",
    "    hypernyms_cunter = get_hypernyms_counter(synsets_list)\n",
    "    return get_one_word_summary(hypernyms_cunter)"
   ]
  },
  {
   "cell_type": "code",
   "execution_count": 366,
   "id": "bc43f7f2",
   "metadata": {},
   "outputs": [],
   "source": [
    "def process_keyword_list(keyword_list):\n",
    "    hypernyms_list = []\n",
    "    for keyword in keyword_list:\n",
    "        base_synsets = get_synsets(keyword)\n",
    "        keyword_hypernyms = get_common_hypernyms(base_synsets)\n",
    "        hypernyms_list.extend(keyword_hypernyms)\n",
    "    print(hypernyms_list)\n",
    "    hypernyms_counter = get_hypernyms_counter(hypernyms_list)\n",
    "    summary_keyword = get_one_word_summary(hypernyms_counter)\n",
    "    if summary_keyword.lemmas(lang='pol'):\n",
    "        return summary_keyword.lemmas(lang='pol')\n",
    "    return summary_keyword"
   ]
  },
  {
   "cell_type": "code",
   "execution_count": 341,
   "id": "12327a83",
   "metadata": {},
   "outputs": [
    {
     "data": {
      "text/plain": [
       "[Lemma('organism.n.01.egzemplarz'),\n",
       " Lemma('organism.n.01.jednostka'),\n",
       " Lemma('organism.n.01.organizm'),\n",
       " Lemma('organism.n.01.osobnik')]"
      ]
     },
     "execution_count": 341,
     "metadata": {},
     "output_type": "execute_result"
    }
   ],
   "source": [
    "process_keyword_list(['pies', 'kot', 'krowa'])"
   ]
  },
  {
   "cell_type": "code",
   "execution_count": 342,
   "id": "5dfbabae",
   "metadata": {},
   "outputs": [
    {
     "data": {
      "text/plain": [
       "Synset('entity.n.01')"
      ]
     },
     "execution_count": 342,
     "metadata": {},
     "output_type": "execute_result"
    }
   ],
   "source": [
    "process_keyword_list(['Tesla', 'Opel', 'Toyota'])"
   ]
  },
  {
   "cell_type": "code",
   "execution_count": 343,
   "id": "46613551",
   "metadata": {},
   "outputs": [
    {
     "data": {
      "text/plain": [
       "[Lemma('furniture.n.01.mebel')]"
      ]
     },
     "execution_count": 343,
     "metadata": {},
     "output_type": "execute_result"
    }
   ],
   "source": [
    "process_keyword_list(['krzesło', 'stół'])"
   ]
  },
  {
   "cell_type": "code",
   "execution_count": 348,
   "id": "e8d67a1e",
   "metadata": {},
   "outputs": [
    {
     "data": {
      "text/plain": [
       "[Lemma('dish.n.02.potrawa')]"
      ]
     },
     "execution_count": 348,
     "metadata": {},
     "output_type": "execute_result"
    }
   ],
   "source": [
    "process_keyword_list(['pizza', 'makaron', 'mięso', 'ryż'])"
   ]
  },
  {
   "cell_type": "code",
   "execution_count": 355,
   "id": "deaef749",
   "metadata": {},
   "outputs": [
    {
     "data": {
      "text/plain": [
       "[Lemma('placental.n.01.ssak_łożyskowy'), Lemma('placental.n.01.łożyskowiec')]"
      ]
     },
     "execution_count": 355,
     "metadata": {},
     "output_type": "execute_result"
    }
   ],
   "source": [
    "process_keyword_list(['żyrafa', 'słoń', 'zebra'])"
   ]
  },
  {
   "cell_type": "code",
   "execution_count": 364,
   "id": "506b533e",
   "metadata": {},
   "outputs": [
    {
     "data": {
      "text/plain": [
       "[Lemma('publication.n.01.pozycja'),\n",
       " Lemma('publication.n.01.tytuł'),\n",
       " Lemma('publication.n.01.wydawnictwo')]"
      ]
     },
     "execution_count": 364,
     "metadata": {},
     "output_type": "execute_result"
    }
   ],
   "source": [
    "process_keyword_list(['książka', 'artykół', 'czasopismo', 'biografia'])"
   ]
  },
  {
   "cell_type": "code",
   "execution_count": 369,
   "id": "fdde40f6",
   "metadata": {},
   "outputs": [
    {
     "name": "stdout",
     "output_type": "stream",
     "text": [
      "[Synset('knife.n.01'), Synset('container.n.01'), Synset('spoon.n.01'), Synset('cutlery.n.02'), Synset('fork.n.01')]\n"
     ]
    },
    {
     "data": {
      "text/plain": [
       "[Lemma('cutlery.n.02.sztuciec')]"
      ]
     },
     "execution_count": 369,
     "metadata": {},
     "output_type": "execute_result"
    }
   ],
   "source": [
    "process_keyword_list(['nóż', 'łyżka', 'widelec'])"
   ]
  },
  {
   "cell_type": "code",
   "execution_count": 371,
   "id": "8da58643",
   "metadata": {},
   "outputs": [
    {
     "name": "stdout",
     "output_type": "stream",
     "text": [
      "[Synset('entity.n.01'), Synset('garment.n.01'), Synset('trouser.n.01'), Synset('garment.n.01'), Synset('shirt.n.01')]\n"
     ]
    },
    {
     "data": {
      "text/plain": [
       "[Lemma('garment.n.01.część_garderoby'),\n",
       " Lemma('garment.n.01.element_garderoby'),\n",
       " Lemma('garment.n.01.element_ubioru'),\n",
       " Lemma('garment.n.01.sztuka_odzieży')]"
      ]
     },
     "execution_count": 371,
     "metadata": {},
     "output_type": "execute_result"
    }
   ],
   "source": [
    "process_keyword_list(['skarpeta', 'spodnie', 'koszula'])"
   ]
  },
  {
   "cell_type": "code",
   "execution_count": 373,
   "id": "b113316f",
   "metadata": {},
   "outputs": [
    {
     "name": "stdout",
     "output_type": "stream",
     "text": [
      "[Synset('entity.n.01'), Synset('entity.n.01'), Synset('body_part.n.01'), Synset('abdomen.n.01'), Synset('entity.n.01')]\n"
     ]
    },
    {
     "data": {
      "text/plain": [
       "Synset('entity.n.01')"
      ]
     },
     "execution_count": 373,
     "metadata": {},
     "output_type": "execute_result"
    }
   ],
   "source": [
    "process_keyword_list(['plecy', 'głowa', 'brzuch', 'ręka'])"
   ]
  },
  {
   "cell_type": "markdown",
   "id": "b6fbea7b",
   "metadata": {},
   "source": [
    "##  Keyphrase Extraction"
   ]
  },
  {
   "cell_type": "markdown",
   "id": "36a7d2b3",
   "metadata": {},
   "source": [
    "The extracting algorithm is given a set of documents and should output a set of lists of phrases (one list of phrases per document) that best describe (summarize) the document content. Those phrases should be present in the document. Lemmatization of the keyphrases is optional. Additionaly the algorith should rank those phrases, meaning that the phrase more important for the document (better describing its content) should be given higher score. E.g. in the article about Orlen-Lotos merger, the companies names would probably score higher than names of the CEOs, while the names of people quoted in the article could not be extracted as keywords at all. The algorithm may or may not process one document at a time. The algorithm may use any publicly available data or tools, e.g. word embeddings, language models, onthologies or dictionaries"
   ]
  },
  {
   "cell_type": "code",
   "execution_count": null,
   "id": "2683677d",
   "metadata": {},
   "outputs": [],
   "source": [
    "# https://medium.com/mlearning-ai/10-popular-keyword-extraction-algorithms-in-natural-language-processing-8975ada5750c"
   ]
  },
  {
   "cell_type": "code",
   "execution_count": 58,
   "id": "18252e47",
   "metadata": {},
   "outputs": [],
   "source": [
    "from multi_rake import Rake\n",
    "\n",
    "def extract_keyphrases(text):\n",
    "#     rake = Rake(language_code=\"pl\") don't need pl, interfere automatically\n",
    "    rake = Rake()\n",
    "    keywords = rake.apply(text)\n",
    "    print(keywords)"
   ]
  },
  {
   "cell_type": "code",
   "execution_count": 59,
   "id": "98101860",
   "metadata": {},
   "outputs": [],
   "source": [
    "rok_polskiej_reprezentacji = \"\"\"\n",
    "    Drużyna narodowa kończy rok 2022 – tak jak 2021 – bez selekcjonera. Nie musiało tak być, \n",
    "    ale prezes Cezary Kulesza nie miał wyjścia. W przypadku Czesława Michniewicza wiele mogło \n",
    "    pójść w zapomnienie, gdyby do piłki nożnej nie została tak chętnie zaproszona polityka. \n",
    "    Nie było nikogo rozsądnego, kto zasugerowałby premierowi Mateuszowi Morawieckiemu, że proponowanie \n",
    "    kilkudziesięciu mln zł piłkarzom jest złym pomysłem w czasach kryzysu, inflacji i drożyzny. \n",
    "    A jak było wcześniej? Oto rok piłkarskiej reprezentacji Polski.\n",
    "\"\"\""
   ]
  },
  {
   "cell_type": "code",
   "execution_count": 60,
   "id": "615ce86d",
   "metadata": {},
   "outputs": [
    {
     "name": "stdout",
     "output_type": "stream",
     "text": [
      "[('prezes cezary kulesza', 9.0), ('przypadku czesława michniewicza', 9.0), ('chętnie zaproszona polityka', 9.0), ('miał wyjścia', 4.0), ('mogło pójść', 4.0), ('piłki nożnej', 4.0), ('nikogo rozsądnego', 4.0), ('złym pomysłem', 4.0), ('czasach kryzysu', 4.0), ('selekcjonera', 1.0), ('musiało', 1.0), ('zapomnienie', 1.0), ('została', 1.0), ('inflacji', 1.0), ('drożyzny', 1.0), ('wcześniej', 1.0), ('2021', 0)]\n"
     ]
    }
   ],
   "source": [
    "extract_keyphrases(rok_polskiej_reprezentacji)"
   ]
  },
  {
   "cell_type": "code",
   "execution_count": 61,
   "id": "a6615fa2",
   "metadata": {},
   "outputs": [],
   "source": [
    "rok_polskiej_reprezentacji_long = \"\"\"\n",
    "    Drużyna narodowa kończy rok 2022 – tak jak 2021 – bez selekcjonera. Nie musiało tak być, \n",
    "    ale prezes Cezary Kulesza nie miał wyjścia. W przypadku Czesława Michniewicza wiele mogło \n",
    "    pójść w zapomnienie, gdyby do piłki nożnej nie została tak chętnie zaproszona polityka. \n",
    "    Nie było nikogo rozsądnego, kto zasugerowałby premierowi Mateuszowi Morawieckiemu, że proponowanie \n",
    "    kilkudziesięciu mln zł piłkarzom jest złym pomysłem w czasach kryzysu, inflacji i drożyzny. \n",
    "    A jak było wcześniej? Oto rok piłkarskiej reprezentacji Polski.\n",
    "    Dwanaście miesięcy temu po jesiennej zmianie władz w związku, kiedy Cezary Kulesza zastąpił \n",
    "    Zbigniewa Bońka, Portugalczyk Paulo Sousa niespodziewanie podjął decyzję o ucieczce z Polski, \n",
    "    przyjmując propozycję brazylijskiego Flamengo Rio de Janeiro (zapłacił naszej federacji za \n",
    "    zerwanie umowy), w którym popracował ledwie pół roku.\n",
    "    Teraz Czesław Michniewicz nie dostał nowego kontraktu od prezesa Kuleszy. Szef federacji drugi \n",
    "    rok z rzędu na przełomie grudnia i stycznia musi szukać trenera najważniejszej drużyny w kraju. \n",
    "    Czas nie nagli – Polska dopiero 24 marca rozpoczyna eliminacje Euro 2024, a grupowi rywale są \n",
    "    wyjątkowo sprzyjający i nie wymagają działań nagłych: Czechy, Albania, Wyspy Owcze oraz Mołdawia.\n",
    "    Do turnieju, który w 2024 r. zostanie rozegrany w Niemczech, zakwalifikują się dwie najlepsze \n",
    "    reprezentacje. Początek kwalifikacji będzie jednak istotny – 24 marca Biało-Czerwoni zagrają \n",
    "    w Czechach, trzy dni później na PGE Narodowym w Warszawie podejmiemy Albanię. O tym, \n",
    "    co będzie – mniej więcej wiadomo. Następcą Michniewicza ma zostać obcokrajowiec. Poniżej \n",
    "    przypominamy dwanaście miesięcy reprezentacji Polski.\n",
    "\"\"\""
   ]
  },
  {
   "cell_type": "code",
   "execution_count": 62,
   "id": "bddcea8f",
   "metadata": {},
   "outputs": [
    {
     "name": "stdout",
     "output_type": "stream",
     "text": [
      "[('prezes cezary kulesza', 9.0), ('chętnie zaproszona polityka', 9.0), ('dwanaście miesięcy temu', 9.0), ('jesiennej zmianie władz', 9.0), ('zapłacił naszej federacji', 9.0), ('popracował ledwie pół', 9.0), ('dostał nowego kontraktu', 9.0), ('wymagają działań nagłych', 9.0), ('trzy dni później', 9.0), ('warszawie podejmiemy albanię', 9.0), ('przypadku czesława michniewicza', 8.5), ('następcą michniewicza', 4.5), ('miał wyjścia', 4.0), ('mogło pójść', 4.0), ('piłki nożnej', 4.0), ('nikogo rozsądnego', 4.0), ('złym pomysłem', 4.0), ('czasach kryzysu', 4.0), ('zerwanie umowy', 4.0), ('czesław michniewicz', 4.0), ('prezesa kuleszy', 4.0), ('przełomie grudnia', 4.0), ('grupowi rywale', 4.0), ('wyjątkowo sprzyjający', 4.0), ('wyspy owcze', 4.0), ('zostanie rozegrany', 4.0), ('najlepsze reprezentacje', 4.0), ('początek kwalifikacji', 4.0), ('pge narodowym', 4.0), ('zostać obcokrajowiec', 4.0), ('selekcjonera', 1.0), ('musiało', 1.0), ('zapomnienie', 1.0), ('została', 1.0), ('inflacji', 1.0), ('drożyzny', 1.0), ('wcześniej', 1.0), ('związku', 1.0), ('ucieczce', 1.0), ('polski', 1.0), ('rzędu', 1.0), ('stycznia', 1.0), ('kraju', 1.0), ('czas', 1.0), ('nagli', 1.0), ('czechy', 1.0), ('albania', 1.0), ('mołdawia', 1.0), ('turnieju', 1.0), ('2024 r', 1.0), ('niemczech', 1.0), ('zakwalifikują', 1.0), ('istotny', 1.0), ('czechach', 1.0), ('mniej', 1.0), ('wiadomo', 1.0), ('2021', 0)]\n"
     ]
    }
   ],
   "source": [
    "extract_keyphrases(rok_polskiej_reprezentacji_long)"
   ]
  },
  {
   "cell_type": "code",
   "execution_count": 63,
   "id": "b338e47b",
   "metadata": {},
   "outputs": [],
   "source": [
    "benedykt_xvi_nie_zyje = \"\"\"\n",
    "Emerytowany papież Benedykt XVI, kard. Joseph Ratzinger, nie żyje. Miał 95 lat. Informację o jego śmierci \n",
    "przekazał dyrektor biura prasowego Watykanu Matteo Bruni.\n",
    "Bruni przekazał również, że Benedykt XVI zmarł o godzinie 9.34. Jak dodał, ciało emerytowanego papieża \n",
    "zostanie wystawione w Bazylice Świętego Piotra, aby \"wierni mogli go pożegnać\".\n",
    "W środę pojawiły się informacje o poważnym stanie emerytowanego papieża Benedykta XVI. —Jest bardzo \n",
    "chory — wyjawił Franciszek, który odwiedził swojego poprzednika i apelował o modlitwę za niego.\n",
    "Emerytowany papież miał prawdopodobnie problemy z oddychaniem, które nasiliły się przed Bożym Narodzeniem \n",
    "— podawała włoska agencja Ansa. Amerykańska gazeta katolicka \"National Catholic Register\" informowała, \n",
    "powołując się na źródło w Watykanie, że Benedykt XVI mógł cierpieć na niewydolność nerek.\n",
    "Benedykt XVI po abdykacji w 2013 r. pozostał w Watykanie i mieszkał w klauzurowym zakonie Matter Ecclesiae. \n",
    "Od czasu do czasu w sieci pojawiały się zdjęcia Josepha Ratzingera. Jedno z ostatnich udostępnione zostało \n",
    "w listopadzie.\n",
    "Joseph Ratzinger urodził się 16 kwietnia 1927 r. w Marktl am Inn w Bawarii. Miał dwójkę rodzeństwa – brata \n",
    "Georga, który także był księdzem i zmarł w 2020 r. oraz siostrę Marię, która była jego gosposią \n",
    "aż do śmierci w 1991 r. Rodzina przyszłego papieża kilkukrotnie musiała się przeprowadzać. Według doniesień \n",
    "medialnych powodem była antynazistowska postawa ojca. Jako nastolatek Joseph wraz z rodziną zamieszkali \n",
    "w Traunstein na granicy z Austrią.\n",
    "Ratzinger w 1939 r. wstąpił do niższego seminarium duchownego, które jednak ze względu na działania wojenne \n",
    "musiał opuścić. Przyszły papież w wieku 14 lat został zapisany do Hitlerjugend, co było obowiązkowe w tamtych \n",
    "czasach. Gdy skończył 16 lat, został wcielony do wojska, gdzie służył m.in. jako wartownik i telefonista. \n",
    "Przyszły papież otrzymał przydział do koszar Wermachtu i służył na różnych posterunkach wokół Traunstein. \n",
    "Pod koniec wojny zdezerterował.\n",
    "W latach 1946-1951 studiował filozofię i teologię na Uniwersytecie w Monachium oraz w szkole wyższej we Freisingu. \n",
    "Wraz z bratem Georgem przyjął święcenia kapłańskie 29 czerwca 1951 r. W 1953 r. ks. Ratzinger uzyskał tytuł \n",
    "doktora teologii. Cztery lata później uzyskał tytuł profesora uniwersyteckiego. Wykładał dogmatykę i teologię \n",
    "w Wyższej Szkole Filozoficznej i Teologicznej we Freisingu, w Bonn, Münsterze i Tybindze. Od 1969 r. był \n",
    "profesorem teologii dogmatycznej i historii dogmatyki na Uniwersytecie w Ratyzbonie, gdzie ostatecznie został \n",
    "dziekanem i prorektorem.\n",
    "Uczestniczył we wszystkich czterech sesjach Soboru Watykańskiego II jako główny doradca teologiczny arcybiskupa \n",
    "Kolonii, kardynała Josefa Fringsa. W 1977 r. papież Paweł VI powołał ks. Ratzingera na arcybiskupa Monachium \n",
    "i Freisingu, a miesiąc później kreował go kardynałem.\n",
    "W 1981 r. kard. Ratzinger został mianowany przez papieża Jana Pawła II prefektem Kongregacji Nauki Wiary. \n",
    "Został także przewodniczącym Komisji Biblijnej i Papieskiej Międzynarodowej Komisji Teologicznej. W latach \n",
    "1986-92 pracował jako przewodniczący komisji zajmującej się opracowaniem nowego Katechizmu Kościoła Katolickiego.\n",
    "W 1998 r. został mianowany prodziekanem, a w 2002 r. dziekanem Kolegium Kardynałów. Pracował też w Sekretariacie \n",
    "Stanu, Kongregacji ds. Kościołów Wschodnich, Kongregacji ds. Kultu Bożego i Dyscypliny Sakramentów, Kongregacji \n",
    "ds. Biskupów i wielu innych. 8 kwietnia 2005 r., kardynał Ratzinger przewodniczył mszy świętej podczas pogrzebu \n",
    "Jana Pawła II na placu św. Piotra.\n",
    "19 kwietnia Joseph Ratzinger został wybrany 265. papieżem i przybrał imię Benedykt XVI. Po swoim wyborze zwrócił \n",
    "się do wiernych zgromadzonych na Placu Świętego Piotra słowami: \"Umiłowani bracia i siostry. Po wielkim papieżu \n",
    "Janie Pawle II kardynałowie wybrali mnie – prostego, skromnego pracownika winnicy Pana. Pocieszam się faktem, \n",
    "że Pan potrafi się posługiwać niedoskonałymi narzędziami i działać przy ich pomocy, a przede wszystkim \n",
    "zawierzam się waszym modlitwom. W radości Pana zmartwychwstałego, ufni w Jego stałą pomoc, idziemy przed siebie. \n",
    "Pan nam pomoże, a Maryja, Jego Najświętsza Matka, stoi u naszego boku. Dziękuję\".\n",
    "Benedykt XVI odbył w sumie 24 zagraniczne podróże apostolskie. W dniach 25-28 maja 2006 r. odwiedził Polskę. \n",
    "Była to jego jedyna wizyta w naszym kraju i druga po Niemczech zagraniczna pielgrzymka papieża. Wizyta papieża \n",
    "z Niemiec w byłym nazistowskim obozie koncentracyjnym Auschwitz była symboliczna, szczególnie że przyszły papież \n",
    "w swojej młodości był zmuszony do służby w Hitlerjugend.\n",
    "W lutym 2013 r. Benedykt XVI ogłosił, że z końcem miesiąca rezygnuje z funkcji biskupa Rzymu i odchodzi \n",
    "na emeryturę. Wywołało to powszechne zaskoczenie na całym świecie. 28 lutego o godz. 20 Benedykt XVI przestał \n",
    "być papieżem. Ostatni raz takie wydarzenia miało miejsce w XIII w. Po rezygnacji prosił, żeby nazywać go po \n",
    "prostu \"ojciec Benedykt\".\n",
    "Ustępujący papież przebywał jakiś czas w letniej rezydencji w Castel Gandolfo, aby potem przenieść się do \n",
    "ogrodów watykańskich i klauzurowego zakonu Matter Ecclesiae.\n",
    "Benedykt XVI od czasu ustąpienia unikał publicznych wystąpień. Pojawiał się jednak czasem na zaproszenie \n",
    "papieża Franciszka. I tak wziął udział m.in. w odsłonięciu pomnika Michała Archanioła w Watykanie (2013 r.), \n",
    "kanonizacji papieży Jana XXIII i Jana Pawła II (2014 r.), otwarciu drzwi świętych w Roku Miłosierdzia (2015 r.). \n",
    "Sporadycznie w sieci ukazywały się też zdjęcia emerytowanego papieża.\n",
    "Swoją ostatnią podróż zagraniczną Benedykt XVI odbył w 2020 r., już po wybuchu epidemii koronawirusa. Papież \n",
    "emeryt na pięć dni poleciał do Niemiec, gdzie odwiedził swojego umierającego starszego brata Georga oraz groby \n",
    "rodziców i siostry. Wydarzenie to wzbudziło wielkie zainteresowanie mediów. Świat obiegły wówczas zdjęcia wyraźnie \n",
    "schorowanego Benedykta XVI poruszającego się na wózku inwalidzkim.\n",
    "\"\"\""
   ]
  },
  {
   "cell_type": "code",
   "execution_count": 64,
   "id": "f85a8a55",
   "metadata": {},
   "outputs": [
    {
     "name": "stdout",
     "output_type": "stream",
     "text": [
      "[('amerykańska gazeta katolicka', 9.0), ('national catholic register', 9.0), ('ostatnich udostępnione zostało', 9.0), ('marktl am inn', 9.0), ('doniesień medialnych powodem', 9.0), ('antynazistowska postawa ojca', 9.0), ('niższego seminarium duchownego', 9.0), ('koniec wojny zdezerterował', 9.0), ('profesorem teologii dogmatycznej', 9.0), ('kardynała josefa fringsa', 9.0), ('miesiąc później kreował', 9.0), ('przewodniczącym komisji biblijnej', 9.0), ('przewodniczący komisji zajmującej', 9.0), ('swoim wyborze zwrócił', 9.0), ('skromnego pracownika winnicy', 9.0), ('posługiwać niedoskonałymi narzędziami', 9.0), ('końcem miesiąca rezygnuje', 9.0), ('funkcji biskupa rzymu', 9.0), ('wydarzenia miało miejsce', 9.0), ('jana pawła ii', 9.0), ('otwarciu drzwi świętych', 9.0), ('wybuchu epidemii koronawirusa', 9.0), ('pięć dni poleciał', 9.0), ('zaproszenie papieża franciszka', 8.666666666666666), ('zdjęcia emerytowanego papieża', 8.666666666666666), ('odwiedził swojego poprzednika', 8.5), ('wziął udział m', 8.5), ('ustępujący papież przebywał', 8.25), ('benedykt xvi odbył', 8.1), ('benedykt xvi ogłosił', 8.1), ('bazylice świętego piotra', 8.0), ('zdjęcia josepha ratzingera', 8.0), ('miał dwójkę rodzeństwa', 8.0), ('wyższej szkole filozoficznej', 8.0), ('latach 1986-92 pracował', 8.0), ('dziekanem kolegium kardynałów', 8.0), ('nastolatek joseph wraz', 7.666666666666666), ('joseph ratzinger urodził', 7.416666666666666), ('benedykt xvi zmarł', 7.1), ('benedykt xvi', 5.1), ('szkole wyższej', 5.0), ('wizyta papieża', 4.666666666666666), ('odwiedził polskę', 4.5), ('ojciec benedykt', 4.5), ('joseph ratzinger', 4.416666666666666), ('przyszły papież', 4.25), ('papież emeryt', 4.25), ('bruni przekazał', 4.0), ('wierni mogli', 4.0), ('środę pojawiły', 4.0), ('niewydolność nerek', 4.0), ('sieci pojawiały', 4.0), ('brata georga', 4.0), ('siostrę marię', 4.0), ('rodziną zamieszkali', 4.0), ('ze względu', 4.0), ('tamtych czasach', 4.0), ('służył m', 4.0), ('koszar wermachtu', 4.0), ('wykładał dogmatykę', 4.0), ('historii dogmatyki', 4.0), ('sekretariacie stanu', 4.0), ('kongregacji ds', 4.0), ('kościołów wschodnich', 4.0), ('kultu bożego', 4.0), ('dyscypliny sakramentów', 4.0), ('placu św', 4.0), ('wiernych zgromadzonych', 4.0), ('umiłowani bracia', 4.0), ('waszym modlitwom', 4.0), ('stałą pomoc', 4.0), ('najświętsza matka', 4.0), ('jedyna wizyta', 4.0), ('naszym kraju', 4.0), ('swojej młodości', 4.0), ('powszechne zaskoczenie', 4.0), ('całym świecie', 4.0), ('ostatni raz', 4.0), ('rezygnacji prosił', 4.0), ('letniej rezydencji', 4.0), ('castel gandolfo', 4.0), ('potem przenieść', 4.0), ('ogrodów watykańskich', 4.0), ('sieci ukazywały', 4.0), ('groby rodziców', 4.0), ('wózku inwalidzkim', 4.0), ('arcybiskupa monachium', 3.5), ('mianowany prodziekanem', 3.5), ('lutym 2013 r', 3.0666666666666664), ('miał 95', 2.0), ('zmarł', 2.0), ('wraz', 2.0), ('dziekanem', 2.0), ('ratzingera', 2.0), ('pracował', 2.0), ('piotra', 2.0), ('ratzinger', 1.75), ('służył', 1.5), ('monachium', 1.5), ('mianowany', 1.5), ('2013 r', 1.0666666666666667), ('2020 r', 1.0666666666666667), ('1991 r', 1.0666666666666667), ('1939 r', 1.0666666666666667), ('1953 r', 1.0666666666666667), ('1969 r', 1.0666666666666667), ('1977 r', 1.0666666666666667), ('1981 r', 1.0666666666666667), ('1998 r', 1.0666666666666667), ('2002 r', 1.0666666666666667), ('2014 r', 1.0666666666666667), ('2015 r', 1.0666666666666667), ('kard', 1.0), ('żyje', 1.0), ('informację', 1.0), ('godzinie 9', 1.0), ('dodał', 1.0), ('pożegnać', 1.0), ('informacje', 1.0), ('—jest', 1.0), ('apelował', 1.0), ('modlitwę', 1.0), ('oddychaniem', 1.0), ('nasiliły', 1.0), ('informowała', 1.0), ('powołując', 1.0), ('źródło', 1.0), ('watykanie', 1.0), ('abdykacji', 1.0), ('pozostał', 1.0), ('mieszkał', 1.0), ('czasu', 1.0), ('listopadzie', 1.0), ('bawarii', 1.0), ('księdzem', 1.0), ('gosposią', 1.0), ('śmierci', 1.0), ('przeprowadzać', 1.0), ('traunstein', 1.0), ('granicy', 1.0), ('austrią', 1.0), ('wstąpił', 1.0), ('wieku 14', 1.0), ('zapisany', 1.0), ('hitlerjugend', 1.0), ('obowiązkowe', 1.0), ('skończył 16', 1.0), ('wcielony', 1.0), ('wojska', 1.0), ('wartownik', 1.0), ('telefonista', 1.0), ('teologię', 1.0), ('uniwersytecie', 1.0), ('freisingu', 1.0), ('teologicznej', 1.0), ('bonn', 1.0), ('münsterze', 1.0), ('tybindze', 1.0), ('ratyzbonie', 1.0), ('ostatecznie', 1.0), ('prorektorem', 1.0), ('uczestniczył', 1.0), ('kardynałem', 1.0), ('biskupów', 1.0), ('wybrany 265', 1.0), ('papieżem', 1.0), ('siostry', 1.0), ('prostego', 1.0), ('pocieszam', 1.0), ('faktem', 1.0), ('potrafi', 1.0), ('działać', 1.0), ('pomocy', 1.0), ('zawierzam', 1.0), ('radości', 1.0), ('zmartwychwstałego', 1.0), ('ufni', 1.0), ('idziemy', 1.0), ('siebie', 1.0), ('pomoże', 1.0), ('maryja', 1.0), ('stoi', 1.0), ('boku', 1.0), ('dziękuję', 1.0), ('druga', 1.0), ('niemiec', 1.0), ('symboliczna', 1.0), ('szczególnie', 1.0), ('zmuszony', 1.0), ('służby', 1.0), ('odchodzi', 1.0), ('emeryturę', 1.0), ('wywołało', 1.0), ('28 lutego', 1.0), ('godz', 1.0), ('xiii', 1.0), ('nazywać', 1.0), ('prostu', 1.0), ('czas', 1.0), ('pojawiał', 1.0), ('miłosierdzia', 1.0), ('sporadycznie', 1.0), ('wydarzenie', 1.0)]\n"
     ]
    }
   ],
   "source": [
    "extract_keyphrases(benedykt_xvi_nie_zyje)"
   ]
  },
  {
   "cell_type": "code",
   "execution_count": 65,
   "id": "3fdce1e0",
   "metadata": {},
   "outputs": [],
   "source": [
    "para_zyje_na_bali = \"\"\"\n",
    "Wracamy z kolejnym odcinkiem cyklu \"Nowi emigranci\", w którym piszemy o Polakach mieszkających za granicą. \n",
    "Tym razem porozmawialiśmy z Marianną i Piotrem, którzy przeprowadzili się na indonezyjską wyspę Bali.\n",
    "Jak pokazuje opublikowane w 2021 r. badanie \"Migracje Zarobkowe Polaków\", aż 16 proc. pracujących mieszkańców \n",
    "naszego kraju w ciągu najbliższych 12 miesięcy rozważa emigrację zarobkową. To dwa razy więcej niż przed pandemią, \n",
    "na co wpływ ma spadek dochodów wielu osób, a także wzrost inflacji. Najczęściej o wyjeździe myślą osoby \n",
    "w wieku 24-35 lat, dlatego postanowiliśmy ruszyć na Noizz z cyklem \"Nowi emigranci\". Będziemy w nim rozmawiać \n",
    "z młodymi ludźmi, którzy już zdecydowali się na ten ruch i mogą się podzielić swoimi doświadczeniami.\n",
    "Nasi kolejni rozmówcy przeprowadzili się na piękną indonezyjską wyspę Bali, gdzie według serwisu Polonia.org \n",
    "obywatele naszego kraju nie tylko wypoczywają, ale coraz częściej także mieszkają na stałe. Marianna i \n",
    "Piotr Ciereszyńscy opowiedzieli nam, jak wygląda tam ich życie.\n",
    "Czemu akurat Bali?\n",
    "Bali zaczęło się od mojej samotnej podróży po Azji w 2011 r. W planie był tylko miesiąc w Indiach, ale takie \n",
    "samotne podróże nigdy nie są samotne, jeśli jest się otwartym na przygody. Skończyło się na kilku miesiącach \n",
    "dookoła Azji, w tym nieplanowanym wypadzie na Bali. Poczułam jakąś niesamowitą więź z tym miejscem, jakbym \n",
    "już kiedyś tam mieszkała. Wiedziałam, że kiedyś wrócę tam na dłużej. To trochę magiczna historia, bo wówczas \n",
    "wspięłam się na wulkan Batur i pomyślałam życzenie, by poznać człowieka, który będzie na tyle szalony, żeby \n",
    "przeprowadzić się ze mną na Bali. Tak się stało. Praktycznie od razu po powrocie z Azji poznałam Piotrka.\n",
    "Jak długo tam jesteście i czym się zajmujecie?\n",
    "W sumie jesteśmy tu już siedem lat z przerwami. Wracaliśmy w międzyczasie do Polski, próbowaliśmy też pomieszkać \n",
    "w innych krajach, ale Bali działa na nas jak magnes. Czujemy, że to jest nasze miejsce, przynajmniej na teraz. \n",
    "Kocham Bali i opowiadam o życiu na tej wyspie na swoim blogu Balistka, pomagam również rodzinom, które chcą \n",
    "się tu przeprowadzić, pozałatwiać wszystkie formalności i znaleźć odpowiedzi na różne pytania. Blog jest \n",
    "zajęciem dodatkowym, natomiast na co dzień zajmuję się szeroko pojętą architekturą i zarządzaniem, czyli \n",
    "projektowaniem wnętrz, przeróbkami, budowami i ich nadzorem, poszukiwaniem nieruchomości pod inwestycje, \n",
    "zarządzaniem zespołami technicznymi oraz spinaniem wszystkich procesów z tym związanych.\n",
    "ała moja praca dzieje się na Bali, Piotrka natomiast zdalnie. Jest animatorem, ilustratorem i autorem \n",
    "podcastu \"Motion Kiosk\". Pracuje głównie z krajami anglojęzycznymi, przede wszystkim z Australią, co też \n",
    "jest bardzo wygodne ze względu na nieduże różnice czasowe z Bali. W Polsce natomiast stara się promować motion \n",
    "design i jest zapraszany na różne wydarzenia branżowe. Ostatnio był jednym z jurorów w konkursie \"Polish Graphic \n",
    "Design\", więc kontakt z krajem ciągle mamy.\n",
    "\"\"\""
   ]
  },
  {
   "cell_type": "code",
   "execution_count": 66,
   "id": "86849ad1",
   "metadata": {},
   "outputs": [
    {
     "name": "stdout",
     "output_type": "stream",
     "text": [
      "[('kolejnym odcinkiem cyklu', 9.0), ('migracje zarobkowe polaków', 9.0), ('wyjeździe myślą osoby', 9.0), ('podzielić swoimi doświadczeniami', 9.0), ('piotr ciereszyńscy opowiedzieli', 9.0), ('mojej samotnej podróży', 9.0), ('trochę magiczna historia', 9.0), ('swoim blogu balistka', 9.0), ('szeroko pojętą architekturą', 9.0), ('wygodne ze względu', 9.0), ('nieduże różnice czasowe', 9.0), ('polish graphic design', 9.0), ('krajem ciągle mamy', 9.0), ('promować motion design', 8.5), ('różne wydarzenia branżowe', 8.5), ('kolejni rozmówcy przeprowadzili', 8.0), ('zarządzaniem zespołami technicznymi', 8.0), ('indonezyjską wyspę bali', 7.666666666666667), ('azji poznałam piotrka', 7.0), ('różne pytania', 4.5), ('motion kiosk', 4.5), ('nowi emigranci', 4.0), ('polakach mieszkających', 4.0), ('razem porozmawialiśmy', 4.0), ('pokazuje opublikowane', 4.0), ('pracujących mieszkańców', 4.0), ('spadek dochodów', 4.0), ('wzrost inflacji', 4.0), ('wieku 24-35', 4.0), ('postanowiliśmy ruszyć', 4.0), ('młodymi ludźmi', 4.0), ('serwisu polonia', 4.0), ('org obywatele', 4.0), ('coraz częściej', 4.0), ('nieplanowanym wypadzie', 4.0), ('wówczas wspięłam', 4.0), ('wulkan batur', 4.0), ('pomyślałam życzenie', 4.0), ('poznać człowieka', 4.0), ('tyle szalony', 4.0), ('sumie jesteśmy', 4.0), ('znaleźć odpowiedzi', 4.0), ('zajęciem dodatkowym', 4.0), ('dzień zajmuję', 4.0), ('projektowaniem wnętrz', 4.0), ('poszukiwaniem nieruchomości', 4.0), ('praca dzieje', 4.0), ('autorem podcastu', 4.0), ('pracuje głównie', 4.0), ('krajami anglojęzycznymi', 4.0), ('akurat bali', 3.666666666666667), ('bali zaczęło', 3.666666666666667), ('bali działa', 3.666666666666667), ('kocham bali', 3.666666666666667), ('samotne podróże', 3.5), ('kiedyś wrócę', 3.5), ('przeprowadzili', 2.0), ('azji', 2.0), ('zarządzaniem', 2.0), ('piotrka', 2.0), ('bali', 1.6666666666666667), ('samotne', 1.5), ('kiedyś', 1.5), ('wracamy', 1.0), ('piszemy', 1.0), ('granicą', 1.0), ('marianną', 1.0), ('piotrem', 1.0), ('2021 r', 1.0), ('badanie', 1.0), ('16 proc', 1.0), ('kraju', 1.0), ('razy', 1.0), ('pandemią', 1.0), ('wpływ', 1.0), ('osób', 1.0), ('najczęściej', 1.0), ('noizz', 1.0), ('cyklem', 1.0), ('będziemy', 1.0), ('rozmawiać', 1.0), ('zdecydowali', 1.0), ('ruch', 1.0), ('wypoczywają', 1.0), ('mieszkają', 1.0), ('stałe', 1.0), ('marianna', 1.0), ('wygląda', 1.0), ('życie', 1.0), ('2011 r', 1.0), ('planie', 1.0), ('miesiąc', 1.0), ('indiach', 1.0), ('otwartym', 1.0), ('przygody', 1.0), ('skończyło', 1.0), ('miejscem', 1.0), ('jakbym', 1.0), ('mieszkała', 1.0), ('wiedziałam', 1.0), ('dłużej', 1.0), ('przeprowadzić', 1.0), ('stało', 1.0), ('praktycznie', 1.0), ('razu', 1.0), ('powrocie', 1.0), ('długo', 1.0), ('jesteście', 1.0), ('czym', 1.0), ('zajmujecie', 1.0), ('siedem', 1.0), ('przerwami', 1.0), ('wracaliśmy', 1.0), ('międzyczasie', 1.0), ('polski', 1.0), ('próbowaliśmy', 1.0), ('pomieszkać', 1.0), ('krajach', 1.0), ('magnes', 1.0), ('czujemy', 1.0), ('miejsce', 1.0), ('przynajmniej', 1.0), ('opowiadam', 1.0), ('życiu', 1.0), ('wyspie', 1.0), ('pomagam', 1.0), ('rodzinom', 1.0), ('chcą', 1.0), ('pozałatwiać', 1.0), ('formalności', 1.0), ('blog', 1.0), ('przeróbkami', 1.0), ('budowami', 1.0), ('nadzorem', 1.0), ('inwestycje', 1.0), ('spinaniem', 1.0), ('procesów', 1.0), ('związanych', 1.0), ('ała', 1.0), ('zdalnie', 1.0), ('animatorem', 1.0), ('ilustratorem', 1.0), ('australią', 1.0), ('polsce', 1.0), ('stara', 1.0), ('zapraszany', 1.0), ('ostatnio', 1.0), ('jednym', 1.0), ('jurorów', 1.0), ('konkursie', 1.0), ('kontakt', 1.0)]\n"
     ]
    }
   ],
   "source": [
    "extract_keyphrases(para_zyje_na_bali)"
   ]
  },
  {
   "cell_type": "code",
   "execution_count": 67,
   "id": "72dda036",
   "metadata": {},
   "outputs": [],
   "source": [
    "potezne_wybuchy_w_kijowie = \"\"\"\n",
    "Trwa 311. dzień inwazji Rosji na Ukrainę. Około południa w całej Ukrainie słychać było syreny alarmowe. Rosjanie \n",
    "zaatakowali pociskami rakietowymi Kramatorsk i Chmielnicki, odgłosy eksplozji słychać w Mikołajewie, w Zaporożu \n",
    "i Chersoniu. Do serii potężnych eksplozji doszło w Kijowie. W stolicy zginęła jedna osoba, a liczba osób \n",
    "hospitalizowanych wynosi powyżej 20. Do zniszczeń doszło w rejonach Peczerskim i Hołosijiwskim. Zapraszamy do \n",
    "śledzenia relacji na żywo.\n",
    "\"\"\""
   ]
  },
  {
   "cell_type": "code",
   "execution_count": 68,
   "id": "332964dd",
   "metadata": {},
   "outputs": [
    {
     "name": "stdout",
     "output_type": "stream",
     "text": [
      "[('dzień inwazji rosji', 9.0), ('całej ukrainie słychać', 9.0), ('odgłosy eksplozji słychać', 9.0), ('syreny alarmowe', 4.0), ('stolicy zginęła', 4.0), ('zniszczeń doszło', 4.0), ('rejonach peczerskim', 4.0), ('śledzenia relacji', 4.0), ('trwa 311', 1.0), ('ukrainę', 1.0), ('południa', 1.0), ('chmielnicki', 1.0), ('mikołajewie', 1.0), ('zaporożu', 1.0), ('chersoniu', 1.0), ('kijowie', 1.0), ('osoba', 1.0), ('hołosijiwskim', 1.0), ('zapraszamy', 1.0), ('żywo', 1.0)]\n"
     ]
    }
   ],
   "source": [
    "extract_keyphrases(potezne_wybuchy_w_kijowie)"
   ]
  },
  {
   "cell_type": "code",
   "execution_count": 69,
   "id": "33422cda",
   "metadata": {},
   "outputs": [],
   "source": [
    "runal_pomnik_ronaldo = \"\"\"\n",
    "Wydarzyło się to, co jeszcze kilka miesięcy temu brzmiałoby jak fikcja; piękna opowieść, której zabraknie szczęśliwego \n",
    "zakończenia. Cristiano Ronaldo po ponad 20 latach kariery pełnej sukcesów opuszcza Europę, by występować w saudyjskim \n",
    "Al-Nassr. Klub ogłosił podpisanie kontraktu z Portugalczykiem, nazywając go \"największym sportowcem w historii\". \n",
    "Wydaje się jednak, że to miano nie powinno opisywać człowieka, który w taki sposób żegna się z kibicami uważającymi \n",
    "go za legendę. Ronaldo zaprzeczył własnym słowom sprzed kilku lat, a kibice mogą wytknąć mu hipokryzję.\n",
    "\"\"\""
   ]
  },
  {
   "cell_type": "code",
   "execution_count": 70,
   "id": "6f0baa49",
   "metadata": {},
   "outputs": [
    {
     "name": "stdout",
     "output_type": "stream",
     "text": [
      "[('miesięcy temu brzmiałoby', 9.0), ('zabraknie szczęśliwego zakończenia', 9.0), ('piękna opowieść', 4.0), ('cristiano ronaldo', 4.0), ('saudyjskim al-nassr', 4.0), ('największym sportowcem', 4.0), ('opisywać człowieka', 4.0), ('kibicami uważającymi', 4.0), ('wydarzyło', 1.0), ('fikcja', 1.0), ('występować', 1.0), ('portugalczykiem', 1.0), ('nazywając', 1.0), ('historii', 1.0), ('wydaje', 1.0), ('miano', 1.0), ('żegna', 1.0), ('legendę', 1.0), ('kibice', 1.0), ('wytknąć', 1.0), ('hipokryzję', 1.0)]\n"
     ]
    }
   ],
   "source": [
    "extract_keyphrases(runal_pomnik_ronaldo)"
   ]
  },
  {
   "cell_type": "code",
   "execution_count": 71,
   "id": "2fafaf2b",
   "metadata": {},
   "outputs": [],
   "source": [
    "runal_pomnik_ronaldo_long = \"\"\"\n",
    "Wydarzyło się to, co jeszcze kilka miesięcy temu brzmiałoby jak fikcja; piękna opowieść, której zabraknie szczęśliwego \n",
    "zakończenia. Cristiano Ronaldo po ponad 20 latach kariery pełnej sukcesów opuszcza Europę, by występować w saudyjskim \n",
    "Al-Nassr. Klub ogłosił podpisanie kontraktu z Portugalczykiem, nazywając go \"największym sportowcem w historii\". \n",
    "Wydaje się jednak, że to miano nie powinno opisywać człowieka, który w taki sposób żegna się z kibicami uważającymi \n",
    "go za legendę. Ronaldo zaprzeczył własnym słowom sprzed kilku lat, a kibice mogą wytknąć mu hipokryzję.\n",
    "Portugalczyk bardzo ceni sobie dbałość o własny wizerunek i to, by zostać zapamiętanym jako jeden z najlepszych \n",
    "(a może i najlepszy?) piłkarz w historii futbolu. Choć jego kariera nie była pozbawiona kontrowersji i momentów \n",
    "słabości, to ostatecznie kibice jego dawnych klubów czuli do niego ogromną sympatię. W Manchesterze cieszył się \n",
    "uwielbieniem, później tak samo było w Madrycie. Pobyt w Turynie również przyniósł wiele momentów wartych zapamiętania, \n",
    "a powrót do Anglii miał być dopełnieniem niesamowitej historii wypełnionej sukcesami.\n",
    "Tym bardziej może dziwić więc to, że na koniec stało się inaczej. Wydawało się, że nic nie jest w stanie zburzyć \n",
    "pomnika Cristiano Ronaldo w oczach kibiców Czerwonych Diabłów, ale styl rozstania z klubem wpłynął na odbiór \n",
    "Portugalczyka. Przez lata był na Old Trafford idolem, a po głośnym wywiadzie u Piersa Morgana wielu fanów domagało \n",
    "się natychmiastowego rozwiązania jego kontraktu.\n",
    "Widowiskowy kres legendy na Old Trafford nie wydarzył się w jednym momencie, prowadziło do niego wiele mniejszych, \n",
    "ale również głośnych wydarzeń. Już latem 2022 r. Ronaldo opuścił przedsezonowe zgrupowanie United, a nieoficjalnie \n",
    "mówiło się, że powodem jest chęć znalezienia sobie nowego klubu, który zagra w Lidze Mistrzów. Potem pięciokrotny \n",
    "zdobywca Złotej Piłki głośno wyrażał niezadowolenie z powodu spędzania kolejnych meczów na ławce rezerwowych.\n",
    "Do samego końca pobytu w Anglii napastnik uważał się za piłkarza, który jest w stanie odmienić losy każdego \n",
    "spotkania, za kluczowy element układanki Erika ten Haga. Ronaldo nie dawał w tym sezonie na boisku argumentów, \n",
    "by dalej być w centrum ofensywy United, a gdy Holender przestał na niego stawiać, zawodnik w głośnym wywiadzie \n",
    "dał upust swojej frustracji.\n",
    "37-latek nie potrafił pogodzić się z tym, że z wiekiem nie jest już w stanie samodzielnie błyszczeć w ofensywie \n",
    "Czerwonych Diabłów, a gdy mógł sprawdzić się w roli bardzo cennego, niemal wymarzonego rezerwowego, zdecydował \n",
    "się wylać żale w rozmowie w programie Piersa Morgana. Zaprzyjaźniony dziennikarz wydawał się rozumieć jego słowa \n",
    "o rozczarowaniu stagnacją Manchesteru United, ale sam klub i jego kibice byli znacznie mniej wyrozumiali wobec \n",
    "niesławnego wywiadu.\n",
    "Nie ulega wątpliwości, że to nie słabsza forma, lecz właśnie słowa wypowiedziane w telewizyjnym występie były \n",
    "momentem radykalnej zmiany w postrzeganiu dawnego idola przez kibiców z Old Trafford i powodem jego odejścia z \n",
    "klubu. W tym momencie runął jego pomnik w oczach fanów, przelała się czara goryczy. Gdyby nie pamiętny występ w \n",
    "telewizji, Ronaldo najpewniej wciąż byłby piłkarzem United. A nawet gdyby w zimowym oknie transferowym zdecydował \n",
    "się zmienić zespół na taki, w którym mógłby grać więcej, jego postrzeganie byłoby zupełnie inne.\n",
    "Czerwone Diabły poinformowały o rozwiązaniu umowy Portugalczyka 22 listopada, na dwa dni przed pierwszym meczem \n",
    "jego reprezentacji na mundialu. Po raz pierwszy w karierze Ronaldo przystępował do mistrzostw świata jako bezrobotny, \n",
    "a miliony kibiców z całego świata mogły zastanawiać się, jaki będzie kolejny krok jednego z najlepszych piłkarzy \n",
    "w dwóch pierwszych dekadach XXI w. 37-latek nie zalicza się już przecież do młodzieńców i można było spodziewać się, \n",
    "że kolejny klub może być jego ostatnim. Media łączyły go z Borussią Dortmund, pojawiały się również plotki o \n",
    "sentymentalnym powrocie do Lizbony.\n",
    "\"\"\""
   ]
  },
  {
   "cell_type": "code",
   "execution_count": 73,
   "id": "ec980dcb",
   "metadata": {},
   "outputs": [
    {
     "name": "stdout",
     "output_type": "stream",
     "text": [
      "[('miesięcy temu brzmiałoby', 9.0), ('zabraknie szczęśliwego zakończenia', 9.0), ('dawnych klubów czuli', 9.0), ('widowiskowy kres legendy', 9.0), ('samego końca pobytu', 9.0), ('centrum ofensywy united', 9.0), ('stanie samodzielnie błyszczeć', 9.0), ('ofensywie czerwonych diabłów', 9.0), ('niemal wymarzonego rezerwowego', 9.0), ('zaprzyjaźniony dziennikarz wydawał', 9.0), ('momentem radykalnej zmiany', 9.0), ('postrzeganiu dawnego idola', 9.0), ('postrzeganie byłoby zupełnie', 9.0), ('czerwone diabły poinformowały', 9.0), ('momentów wartych zapamiętania', 8.5), ('anglii napastnik uważał', 8.5), ('kolejny krok jednego', 8.5), ('programie piersa morgana', 8.0), ('karierze ronaldo przystępował', 8.0), ('old trafford idolem', 7.666666666666667), ('piersa morgana', 5.0), ('old trafford', 4.666666666666667), ('momentów słabości', 4.5), ('anglii miał', 4.5), ('piękna opowieść', 4.0), ('cristiano ronaldo', 4.0), ('saudyjskim al-nassr', 4.0), ('największym sportowcem', 4.0), ('opisywać człowieka', 4.0), ('kibicami uważającymi', 4.0), ('własny wizerunek', 4.0), ('zostać zapamiętanym', 4.0), ('pozbawiona kontrowersji', 4.0), ('ogromną sympatię', 4.0), ('manchesterze cieszył', 4.0), ('koniec stało', 4.0), ('styl rozstania', 4.0), ('klubem wpłynął', 4.0), ('odbiór portugalczyka', 4.0), ('głośnym wywiadzie', 4.0), ('fanów domagało', 4.0), ('natychmiastowego rozwiązania', 4.0), ('jednym momencie', 4.0), ('głośnych wydarzeń', 4.0), ('latem 2022 r', 4.0), ('nieoficjalnie mówiło', 4.0), ('chęć znalezienia', 4.0), ('lidze mistrzów', 4.0), ('ławce rezerwowych', 4.0), ('boisku argumentów', 4.0), ('holender przestał', 4.0), ('potrafił pogodzić', 4.0), ('mógł sprawdzić', 4.0), ('wylać żale', 4.0), ('ulega wątpliwości', 4.0), ('słabsza forma', 4.0), ('telewizyjnym występie', 4.0), ('momencie runął', 4.0), ('oczach fanów', 4.0), ('czara goryczy', 4.0), ('pamiętny występ', 4.0), ('zmienić zespół', 4.0), ('mógłby grać', 4.0), ('pierwszym meczem', 4.0), ('raz pierwszy', 4.0), ('mistrzostw świata', 4.0), ('kolejny klub', 4.0), ('media łączyły', 4.0), ('borussią dortmund', 4.0), ('sentymentalnym powrocie', 4.0), ('historii futbolu', 3.5), ('nowego klubu', 3.5), ('słowa wypowiedziane', 3.5), ('miliony kibiców', 3.5), ('najlepszych piłkarzy', 3.5), ('ostatecznie kibice', 3.333333333333333), ('ronaldo', 2.0), ('historii', 1.5), ('najlepszych', 1.5), ('słowa', 1.5), ('klub', 1.5), ('kibiców', 1.5), ('klubu', 1.5), ('kibice', 1.3333333333333333), ('wydarzyło', 1.0), ('fikcja', 1.0), ('występować', 1.0), ('portugalczykiem', 1.0), ('nazywając', 1.0), ('wydaje', 1.0), ('miano', 1.0), ('żegna', 1.0), ('legendę', 1.0), ('wytknąć', 1.0), ('hipokryzję', 1.0), ('portugalczyk', 1.0), ('ceni', 1.0), ('dbałość', 1.0), ('najlepszy', 1.0), ('piłkarz', 1.0), ('choć', 1.0), ('kariera', 1.0), ('uwielbieniem', 1.0), ('później', 1.0), ('samo', 1.0), ('madrycie', 1.0), ('pobyt', 1.0), ('turynie', 1.0), ('przyniósł', 1.0), ('powrót', 1.0), ('dziwić', 1.0), ('inaczej', 1.0), ('wydawało', 1.0), ('lata', 1.0), ('kontraktu', 1.0), ('wydarzył', 1.0), ('prowadziło', 1.0), ('mniejszych', 1.0), ('powodem', 1.0), ('zagra', 1.0), ('piłkarza', 1.0), ('haga', 1.0), ('dawał', 1.0), ('sezonie', 1.0), ('dalej', 1.0), ('stawiać', 1.0), ('zawodnik', 1.0), ('37-latek', 1.0), ('wiekiem', 1.0), ('roli', 1.0), ('cennego', 1.0), ('zdecydował', 1.0), ('rozmowie', 1.0), ('rozumieć', 1.0), ('odejścia', 1.0), ('pomnik', 1.0), ('przelała', 1.0), ('telewizji', 1.0), ('dni', 1.0), ('reprezentacji', 1.0), ('mundialu', 1.0), ('bezrobotny', 1.0), ('zalicza', 1.0), ('młodzieńców', 1.0), ('spodziewać', 1.0), ('ostatnim', 1.0), ('pojawiały', 1.0), ('plotki', 1.0), ('lizbony', 1.0)]\n"
     ]
    }
   ],
   "source": [
    "extract_keyphrases(runal_pomnik_ronaldo_long)"
   ]
  },
  {
   "cell_type": "code",
   "execution_count": 74,
   "id": "e4701277",
   "metadata": {},
   "outputs": [],
   "source": [
    "Warszawa_odmawia_przyjęcia_prymatu_UE = \"\"\"\n",
    "Od dłuższego czasu narastają nieporozumienia w kontaktach Polski z UE. Jarosław Kaczyński może wierzyć, że działania \n",
    "rewizyjne prowadzone w stosunku do rządu jego partii są skutkiem niedokończonych reform państwa od 2015 r. W \n",
    "rzeczywistości to wynik aktywności instytucji powołanych do przeciwdziałania autorytaryzmowi w kraju.\n",
    "\"\"\""
   ]
  },
  {
   "cell_type": "code",
   "execution_count": 75,
   "id": "cfe0a0b8",
   "metadata": {},
   "outputs": [
    {
     "name": "stdout",
     "output_type": "stream",
     "text": [
      "[('działania rewizyjne prowadzone', 9.0), ('kontaktach polski', 4.0), ('jarosław kaczyński', 4.0), ('przeciwdziałania autorytaryzmowi', 4.0), ('wierzyć', 1.0), ('stosunku', 1.0), ('rządu', 1.0), ('partii', 1.0), ('2015 r', 1.0), ('rzeczywistości', 1.0), ('kraju', 1.0)]\n"
     ]
    }
   ],
   "source": [
    "extract_keyphrases(Warszawa_odmawia_przyjęcia_prymatu_UE)"
   ]
  },
  {
   "cell_type": "code",
   "execution_count": 76,
   "id": "27a7a4ac",
   "metadata": {},
   "outputs": [],
   "source": [
    "Warszawa_odmawia_przyjęcia_prymatu_UE_long = \"\"\"\n",
    "Od dłuższego czasu narastają nieporozumienia w kontaktach Polski z UE. Jarosław Kaczyński może wierzyć, że działania \n",
    "rewizyjne prowadzone w stosunku do rządu jego partii są skutkiem niedokończonych reform państwa od 2015 r. W \n",
    "rzeczywistości to wynik aktywności instytucji powołanych do przeciwdziałania autorytaryzmowi w kraju.\n",
    "W ostatnich miesiącach utarło się przekonanie, że wojna zmieniła politykę Europy, przesuwając jej środek ciężkości \n",
    "na Wschód. Żaden kraj nie wydawał się odzwierciedlać tego przesunięcia bardziej niż Polska, która szybko stała się, \n",
    "według słów przewodniczącej Komisji Europejskiej Ursuli von Der Leyen, \"świecącym przykładem\" europejskiej \n",
    "solidarności. Kraj przyjął ponad cztery miliony ukraińskich uchodźców i planuje podwoić swoje długoterminowe wydatki \n",
    "na obronę do 5 proc. PKB – jest to zdecydowanie największy wzrost w Europie i wyraźny kontrast z głównymi siłami UE, \n",
    "Niemcami i Francją.\n",
    "W uznaniu ogromnej roli, jaką Polska odegrała w wojennej mobilizacji Europy, Komisja Europejska przedstawiła długo \n",
    "odkładany plan naprawczy po pandemii COVID–19 dla Polski, znany jako Krajowy Plan Odbudowy Polski (KPO), zobowiązując \n",
    "się do przekazania prawie 36 mld euro w postaci dotacji i subwencji pod warunkiem osiągnięcia przez Polskę pewnych \n",
    "\"kamieni milowych\" dotyczących reform służących przywróceniu praworządności.\n",
    "Rzeczywistość uderza w PiS\n",
    "Polscy przywódcy szybko zaczęli wyrażać nadzieję na otrzymanie pierwszych płatności do końca 2022 roku. Ten gest \n",
    "dobrej woli ze strony KE był postrzegany jako znak ocieplenia więzi między Warszawą a Brukselą i potencjalne \n",
    "zakończenie gorzkiego sporu trwającego od 2015 roku między Prawem i Sprawiedliwością a Unią Europejską o kwestie \n",
    "praworządności. Przez chwilę to, co łączyło Brukselę i Warszawę, wydawało się silniejsze od tego, co je dzieliło.\n",
    "Miesiąc miodowy skończył się jednak, zanim się naprawdę zaczął. Negocjacje między Brukselą a Warszawą zamarły, bo \n",
    "Polska nie złożyła jeszcze nawet wymaganego wniosku o fundusze. W październiku PiS odwołał swojego proeuropejskiego \n",
    "ministra ds. europejskich i zastąpił go znacznie bardziej radykalnym Szymonem Szynkowskim. \"Jeśli Bruksela nadal \n",
    "wstrzymuje finansowanie odbudowy po pandemii, to niech tak będzie. Poradzimy sobie bez tego. Czas wyciągnąć wnioski\" \n",
    "– mówił we wrześniu premier Mateusz Morawiecki.\n",
    "Bruksela odmawia ustępstw. Oprócz zamrożonych funduszy na odzyskiwanie strat spowodowanych COVID UE grozi teraz Polsce \n",
    "wycofaniem 75 mld euro z funduszy rozwojowych, jeśli kraj nie wprowadzi zmian w sądownictwie. \"Z powodu braku \n",
    "zgodności Komisja nie może pozytywnie rozpatrzyć wniosków o płatność\" – powiedział bez ogródek w październiku \n",
    "rzecznik UE Stefan de Keersmaecker.\n",
    "W obliczu wyborów w Polsce jesienią 2023 r. oraz perspektywy ogólnoeuropejskiego kryzysu gospodarczego, rzeczywistość, \n",
    "w której w niedalekiej przyszłości zabraknie prawie 110 mld euro, zaczyna być jednak odczuwalna. Zarówno agencje \n",
    "ratingowe Moodys, jak i Fitch ostrzegły, że wstrzymanie budżetu UE może mieć tragiczne konsekwencje gospodarcze i \n",
    "rynkowe: Polska pilnie potrzebuje unijnych pieniędzy, aby poradzić sobie z gwałtownie rosnącą inflacją i rosnącym \n",
    "zagrożeniem spowolnienia gospodarczego.\n",
    "W sytuacji, gdy dostawy rosyjskiego gazu spadły już do zera, większość polskiej debaty politycznej skupia się na \n",
    "groźbie zbliżającego się niedoboru węgla, który może sprawić, że niektóre gospodarstwa domowe nie będą w stanie \n",
    "ogrzać się tej zimy. Przed wojną w Ukrainie Polska importowała około 7 mln ton węgla rocznie z Rosji. Ta liczba \n",
    "obecnie również spadła do zera. Tymczasem przykładowo władze miejskie Łodzi mogą stracić nawet 8 mld zł (1,71 mld euro)\n",
    ", z czego polski rząd może zwrócić jedynie marne 160 mln zł (34,13 mln euro). Taka dysproporcja to \"katastrofa \n",
    "inwestycyjna\" dla samorządów w całej Polsce powiedział lokalny polityk Sebastian Bulak. \"Będziemy musieli zgasić \n",
    "światło\".\n",
    "\"\"\""
   ]
  },
  {
   "cell_type": "code",
   "execution_count": 77,
   "id": "aa5d4c7f",
   "metadata": {},
   "outputs": [
    {
     "name": "stdout",
     "output_type": "stream",
     "text": [
      "[('działania rewizyjne prowadzone', 9.0), ('ostatnich miesiącach utarło', 9.0), ('zdecydowanie największy wzrost', 9.0), ('głównymi siłami ue', 9.0), ('uznaniu ogromnej roli', 9.0), ('wojennej mobilizacji europy', 9.0), ('otrzymanie pierwszych płatności', 9.0), ('znak ocieplenia więzi', 9.0), ('miesiąc miodowy skończył', 9.0), ('radykalnym szymonem szynkowskim', 9.0), ('czas wyciągnąć wnioski', 9.0), ('bruksela odmawia ustępstw', 9.0), ('pozytywnie rozpatrzyć wniosków', 9.0), ('niedalekiej przyszłości zabraknie', 9.0), ('wstrzymanie budżetu ue', 9.0), ('gwałtownie rosnącą inflacją', 9.0), ('niektóre gospodarstwa domowe', 9.0), ('oprócz zamrożonych funduszy', 8.5), ('jaką polska odegrała', 8.0), ('ukrainie polska importowała', 8.0), ('czego polski rząd', 8.0), ('funduszy rozwojowych', 4.5), ('kontaktach polski', 4.0), ('jarosław kaczyński', 4.0), ('przeciwdziałania autorytaryzmowi', 4.0), ('środek ciężkości', 4.0), ('szybko stała', 4.0), ('świecącym przykładem', 4.0), ('europejskiej solidarności', 4.0), ('planuje podwoić', 4.0), ('długoterminowe wydatki', 4.0), ('wyraźny kontrast', 4.0), ('36 mld euro', 4.0), ('postaci dotacji', 4.0), ('warunkiem osiągnięcia', 4.0), ('polskę pewnych', 4.0), ('kamieni milowych', 4.0), ('unią europejską', 4.0), ('kwestie praworządności', 4.0), ('łączyło brukselę', 4.0), ('naprawdę zaczął', 4.0), ('wymaganego wniosku', 4.0), ('wprowadzi zmian', 4.0), ('obliczu wyborów', 4.0), ('110 mld euro', 4.0), ('fitch ostrzegły', 4.0), ('groźbie zbliżającego', 4.0), ('niedoboru węgla', 4.0), ('stanie ogrzać', 4.0), ('liczba obecnie', 4.0), ('8 mld zł', 4.0), ('71 mld euro', 4.0), ('13 mln euro', 4.0), ('katastrofa inwestycyjna', 4.0), ('pandemii covid–19', 3.5), ('rzeczywistość uderza', 3.5), ('warszawą zamarły', 3.5), ('kraj przyjął', 3.333333333333333), ('polska', 2.0), ('polski', 2.0), ('warszawą', 1.5), ('pandemii', 1.5), ('rzeczywistość', 1.5), ('kraj', 1.3333333333333333), ('wierzyć', 1.0), ('stosunku', 1.0), ('rządu', 1.0), ('partii', 1.0), ('2015 r', 1.0), ('rzeczywistości', 1.0), ('kraju', 1.0), ('przekonanie', 1.0), ('przesuwając', 1.0), ('wschód', 1.0), ('wydawał', 1.0), ('odzwierciedlać', 1.0), ('przesunięcia', 1.0), ('obronę', 1.0), ('5 proc', 1.0), ('pkb', 1.0), ('europie', 1.0), ('niemcami', 1.0), ('francją', 1.0), ('znany', 1.0), ('kpo', 1.0), ('zobowiązując', 1.0), ('przekazania', 1.0), ('subwencji', 1.0), ('końca 2022', 1.0), ('postrzegany', 1.0), ('brukselą', 1.0), ('prawem', 1.0), ('sprawiedliwością', 1.0), ('chwilę', 1.0), ('warszawę', 1.0), ('wydawało', 1.0), ('silniejsze', 1.0), ('dzieliło', 1.0), ('zanim', 1.0), ('negocjacje', 1.0), ('złożyła', 1.0), ('fundusze', 1.0), ('europejskich', 1.0), ('zastąpił', 1.0), ('znacznie', 1.0), ('niech', 1.0), ('poradzimy', 1.0), ('mówił', 1.0), ('sądownictwie', 1.0), ('płatność', 1.0), ('powiedział', 1.0), ('ogródek', 1.0), ('zaczyna', 1.0), ('odczuwalna', 1.0), ('rynkowe', 1.0), ('poradzić', 1.0), ('sytuacji', 1.0), ('zera', 1.0), ('sprawić', 1.0), ('zimy', 1.0), ('wojną', 1.0), ('rosji', 1.0), ('spadła', 1.0), ('stracić', 1.0), ('dysproporcja', 1.0), ('samorządów', 1.0), ('2015', 0)]\n"
     ]
    }
   ],
   "source": [
    "extract_keyphrases(Warszawa_odmawia_przyjęcia_prymatu_UE_long)"
   ]
  },
  {
   "cell_type": "code",
   "execution_count": null,
   "id": "7435c66e",
   "metadata": {},
   "outputs": [],
   "source": []
  }
 ],
 "metadata": {
  "kernelspec": {
   "display_name": "umapkernel",
   "language": "python",
   "name": "umapkernel"
  },
  "language_info": {
   "codemirror_mode": {
    "name": "ipython",
    "version": 3
   },
   "file_extension": ".py",
   "mimetype": "text/x-python",
   "name": "python",
   "nbconvert_exporter": "python",
   "pygments_lexer": "ipython3",
   "version": "3.9.12"
  }
 },
 "nbformat": 4,
 "nbformat_minor": 5
}
