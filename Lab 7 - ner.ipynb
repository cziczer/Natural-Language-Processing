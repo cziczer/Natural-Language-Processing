{
 "cells": [
  {
   "cell_type": "markdown",
   "metadata": {},
   "source": [
    "# Named entity recognition\n"
   ]
  },
  {
   "cell_type": "code",
   "execution_count": 1,
   "metadata": {},
   "outputs": [
    {
     "name": "stderr",
     "output_type": "stream",
     "text": [
      "[nltk_data] Downloading package punkt to\n",
      "[nltk_data]     /Users/mmastalerczyk/nltk_data...\n",
      "[nltk_data]   Unzipping tokenizers/punkt.zip.\n"
     ]
    },
    {
     "data": {
      "text/plain": [
       "True"
      ]
     },
     "execution_count": 1,
     "metadata": {},
     "output_type": "execute_result"
    }
   ],
   "source": [
    "import collections\n",
    "import json\n",
    "import matplotlib.pyplot as plt\n",
    "import nltk\n",
    "import os\n",
    "import os.path\n",
    "import pandas as pd\n",
    "import requests\n",
    "import time\n",
    "import tqdm\n",
    "import urllib.request\n",
    "\n",
    "nltk.download('punkt')"
   ]
  },
  {
   "cell_type": "code",
   "execution_count": 2,
   "metadata": {},
   "outputs": [],
   "source": [
    "clarin_url = 'http://ws.clarin-pl.eu/nlprest2/base'"
   ]
  },
  {
   "cell_type": "code",
   "execution_count": 60,
   "metadata": {},
   "outputs": [],
   "source": [
    "RESULT_DIRECTORY = './ccl'"
   ]
  },
  {
   "cell_type": "markdown",
   "metadata": {},
   "source": [
    "1. Sort bills according to their size and take top 50 (largest) bills."
   ]
  },
  {
   "cell_type": "code",
   "execution_count": 3,
   "metadata": {},
   "outputs": [],
   "source": [
    "all_acts = {}\n",
    "\n",
    "for root, _, files in os.walk('./ustawy'):\n",
    "    for file_name in files:\n",
    "        path = os.path.join(root, file_name)\n",
    "        with open(path, encoding='utf-8') as file:\n",
    "            content = file.read()\n",
    "            all_acts[path] = content"
   ]
  },
  {
   "cell_type": "code",
   "execution_count": 4,
   "metadata": {},
   "outputs": [],
   "source": [
    "top_acts = {\n",
    "    pair[0]: pair[1]\n",
    "    for pair\n",
    "    in sorted(all_acts.items(), key=lambda pair: -len(pair[1]))[:50]\n",
    "}"
   ]
  },
  {
   "cell_type": "code",
   "execution_count": 6,
   "metadata": {},
   "outputs": [
    {
     "data": {
      "text/plain": [
       "dict_keys(['./ustawy/2000_696.txt', './ustawy/2001_627.txt', './ustawy/1996_465.txt', './ustawy/1997_555.txt', './ustawy/2002_1689.txt', './ustawy/2000_1186.txt', './ustawy/1998_1118.txt', './ustawy/1997_117.txt', './ustawy/2001_1070.txt', './ustawy/2001_1368.txt', './ustawy/1997_714.txt', './ustawy/2001_499.txt', './ustawy/2000_991.txt', './ustawy/2003_1750.txt', './ustawy/2001_1545.txt', './ustawy/2001_1229.txt', './ustawy/2000_1268.txt', './ustawy/1994_195.txt', './ustawy/1997_926.txt', './ustawy/2000_1104.txt', './ustawy/2003_2277.txt', './ustawy/1997_553.txt', './ustawy/2004_2065.txt', './ustawy/2004_1693.txt', './ustawy/2004_880.txt', './ustawy/2004_177.txt', './ustawy/2003_423.txt', './ustawy/1997_349.txt', './ustawy/2000_1315.txt', './ustawy/1999_930.txt', './ustawy/1994_591.txt', './ustawy/1996_110.txt', './ustawy/1997_557.txt', './ustawy/1999_95.txt', './ustawy/2004_2533.txt', './ustawy/2001_1381.txt', './ustawy/2000_136.txt', './ustawy/1996_460.txt', './ustawy/2001_1438.txt', './ustawy/1996_561.txt', './ustawy/2001_1188.txt', './ustawy/2001_475.txt', './ustawy/2001_628.txt', './ustawy/1998_602.txt', './ustawy/2003_2256.txt', './ustawy/2001_906.txt', './ustawy/1996_496.txt', './ustawy/2001_92.txt', './ustawy/1997_153.txt', './ustawy/2001_1444.txt'])"
      ]
     },
     "execution_count": 6,
     "metadata": {},
     "output_type": "execute_result"
    }
   ],
   "source": [
    "top_acts.keys()"
   ]
  },
  {
   "cell_type": "markdown",
   "metadata": {},
   "source": [
    "2. Use the lemmatized and sentence split documents (from ex. 5) to identify the expressions that consist of consecutive words starting with a capital letter (you will have to look at the inflected form of the word to check its capitalization) that do not occupy the first position in a sentence. E.g. the sentence:\n",
    " > Wczoraj w Krakowie miało miejsce spotkanie prezydentów Polski i Stanów Zjednoczonych.\n",
    "\n",
    "should yield the following entries: Kraków, Polska, Stan Zjednoczony."
   ]
  },
  {
   "cell_type": "code",
   "execution_count": 11,
   "metadata": {},
   "outputs": [],
   "source": [
    "def lemmatize(text):\n",
    "    sentences = nltk.tokenize.sent_tokenize(text, language='polish')\n",
    "    sentences = [nltk.tokenize.word_tokenize(sentence, language='polish') for sentence in sentences]\n",
    "    request = [[[word, True] for word in sentence] for sentence in sentences]\n",
    "    response = request(\n",
    "        lambda: requests.post('http://localhost:9003?output_format=jsonl', json=[request]).json()\n",
    "    )\n",
    "\n",
    "    lemmatized_text = []\n",
    "    for raw_sentence, lemmatized_sentence in zip(sentences, response):\n",
    "        resulting_sentence = []\n",
    "        for raw_token, lemmatized_token in zip(raw_sentence, lemmatized_sentence):\n",
    "            _, lemmatized_token, category = lemmatized_token\n",
    "            category = category.split(':')[0]\n",
    "            resulting_sentence.append([(raw_token, lemmatized_token, category)])\n",
    "\n",
    "        lemmatized_text.append([resulting_sentence])\n",
    "\n",
    "    return lemmatized_content"
   ]
  },
  {
   "cell_type": "code",
   "execution_count": 13,
   "metadata": {},
   "outputs": [
    {
     "name": "stderr",
     "output_type": "stream",
     "text": [
      "100%|██████████| 50/50 [20:41<00:00, 24.83s/it]\n"
     ]
    }
   ],
   "source": [
    "lemmatized_acts = {}\n",
    "\n",
    "with tqdm.tqdm(total=len(top_acts), position=0, leave=True) as pbar:\n",
    "    for path, content in list(top_acts.items()):\n",
    "        lemmatized_acts[path] = lemmatize(content)\n",
    "        pbar.update()"
   ]
  },
  {
   "cell_type": "code",
   "execution_count": 14,
   "metadata": {},
   "outputs": [
    {
     "data": {
      "text/plain": [
       "[[('Dz.U', 'dziennik ustaw', 'brev'), ('.', '.', 'interp')],\n",
       " [('z', 'z', 'prep'),\n",
       "  ('1998', '1998', 'adj'),\n",
       "  ('r.', 'R', 'brev'),\n",
       "  ('Nr', 'numer', 'brev'),\n",
       "  ('106', '106', 'num'),\n",
       "  (',', ',', 'interp'),\n",
       "  ('poz.', 'poz.', 'subst'),\n",
       "  ('668', '668', 'num'),\n",
       "  ('USTAWA', 'ustawa', 'subst'),\n",
       "  ('z', 'z', 'prep'),\n",
       "  ('dnia', 'dzień', 'subst'),\n",
       "  ('24', '24', 'adj'),\n",
       "  ('lipca', 'lipiec', 'subst'),\n",
       "  ('1998', '1998', 'adj'),\n",
       "  ('r.', 'r.', 'subst'),\n",
       "  ('o', 'o', 'prep'),\n",
       "  ('zmianie', 'zmiana', 'subst'),\n",
       "  ('niektórych', 'niektóry', 'adj'),\n",
       "  ('ustaw', 'ustawa', 'subst'),\n",
       "  ('określających', 'określać', 'pact'),\n",
       "  ('kompetencje', 'kompetencja', 'subst'),\n",
       "  ('organów', 'organ', 'subst'),\n",
       "  ('administracji', 'administracja', 'subst'),\n",
       "  ('publicznej', 'publiczny', 'adj'),\n",
       "  ('-', '-', 'interp'),\n",
       "  ('w', 'w', 'prep'),\n",
       "  ('związku', 'związek', 'subst'),\n",
       "  ('z', 'z', 'prep'),\n",
       "  ('reformą', 'reforma', 'subst'),\n",
       "  ('ustrojową', 'ustrojowy', 'adj'),\n",
       "  ('państwa', 'państwo', 'subst'),\n",
       "  ('Art.', 'artykuł', 'brev'),\n",
       "  ('1', '1', 'adj'),\n",
       "  ('.', '.', 'interp')],\n",
       " [('W', 'w', 'prep'),\n",
       "  ('ustawie', 'ustawa', 'subst'),\n",
       "  ('z', 'z', 'prep'),\n",
       "  ('dnia', 'dzień', 'subst'),\n",
       "  ('24', '24', 'adj'),\n",
       "  ('marca', 'marzec', 'subst'),\n",
       "  ('1920', '1920', 'adj'),\n",
       "  ('r.', 'rok', 'brev'),\n",
       "  ('o', 'o', 'prep'),\n",
       "  ('nabywaniu', 'nabywać', 'ger'),\n",
       "  ('nieruchomości', 'nieruchomość', 'subst'),\n",
       "  ('przez', 'przez', 'prep'),\n",
       "  ('cudzoziemców', 'cudzoziemiec', 'subst'),\n",
       "  ('(', '(', 'interp'),\n",
       "  ('Dz.U', 'dziennik ustaw', 'brev'),\n",
       "  ('.', '.', 'interp')],\n",
       " [('z', 'z', 'prep'),\n",
       "  ('1996', '1996', 'adj'),\n",
       "  ('r.', 'rocznik', 'brev'),\n",
       "  ('Nr', 'numer', 'brev'),\n",
       "  ('54', '54', 'num'),\n",
       "  (',', ',', 'interp'),\n",
       "  ('poz.', 'poz.', 'subst'),\n",
       "  ('245', '245', 'num'),\n",
       "  ('i', 'i', 'conj'),\n",
       "  ('z', 'z', 'prep'),\n",
       "  ('1997', '1997', 'adj'),\n",
       "  ('r.', 'rocznik', 'brev'),\n",
       "  ('Nr', 'numer', 'brev'),\n",
       "  ('140', '140', 'num'),\n",
       "  (',', ',', 'interp'),\n",
       "  ('poz.', 'poz.', 'qub'),\n",
       "  ('939', '939', 'num'),\n",
       "  (')', ')', 'interp'),\n",
       "  ('wprowadza', 'wprowadzać', 'fin'),\n",
       "  ('się', 'się', 'qub'),\n",
       "  ('następujące', 'następujący', 'adj'),\n",
       "  ('zmiany', 'zmiana', 'subst'),\n",
       "  (':', ':', 'interp'),\n",
       "  ('1', '1', 'adj'),\n",
       "  (')', ')', 'interp'),\n",
       "  ('w', 'w', 'prep'),\n",
       "  ('art.', 'artykuł', 'brev'),\n",
       "  ('6', '6', 'num'),\n",
       "  ('ust', 'ustęp', 'brev'),\n",
       "  ('.', '.', 'interp')],\n",
       " [('2', '2', 'adj'),\n",
       "  ('otrzymuje', 'otrzymywać', 'fin'),\n",
       "  ('brzmienie', 'brzmienie', 'subst'),\n",
       "  (':', ':', 'interp'),\n",
       "  ('``', '``', 'xxx'),\n",
       "  ('2', '2', 'adj'),\n",
       "  ('.', '.', 'interp')]]"
      ]
     },
     "execution_count": 14,
     "metadata": {},
     "output_type": "execute_result"
    }
   ],
   "source": [
    "list(lemmatized_acts.values())[0][:5]\n"
   ]
  },
  {
   "cell_type": "markdown",
   "metadata": {},
   "source": [
    "3. Compute the frequency of each identified expression and print 50 results with the largest number of occurrences.\n"
   ]
  },
  {
   "cell_type": "code",
   "execution_count": 16,
   "metadata": {},
   "outputs": [],
   "source": [
    "def is_capitalized(word):\n",
    "    is_roman_numeral = all([character in ['I', 'V', 'X', 'L', 'C', 'D', 'M'] for character in word])\n",
    "    if is_roman_numeral:\n",
    "        return False\n",
    "    for component in word.split():\n",
    "        if not component[:1].isupper():\n",
    "            return False\n",
    "    return True\n",
    "\n",
    "\n",
    "def count_capitalized_expressions(texts, raw=False):\n",
    "    expressions = collections.defaultdict(int)\n",
    "    current_expression = None\n",
    "    for text in texts:\n",
    "        for sentence_index, sentence in enumerate(text):\n",
    "            for index, word in enumerate(sentence):\n",
    "                raw_token, lemmatized_token, category = word\n",
    "\n",
    "                # only consider the first word in a sentence if it's capitalized in its basic format as well\n",
    "                if index == 0:\n",
    "                    if is_capitalized(lemmatized_token) and is_capitalized(raw_token):\n",
    "                        current_expression = raw_token if raw else lemmatized_token\n",
    "                    continue\n",
    "\n",
    "                # break the current streak when you ecounter interpuction\n",
    "                if category in ['interp', 'xxx', 'ign']:\n",
    "                    if current_expression is not None:\n",
    "                        if not raw:\n",
    "                            current_expression = current_expression.lower()\n",
    "                        expressions[current_expression] += 1\n",
    "                        current_expression = None\n",
    "                    continue\n",
    "\n",
    "                # begin new streak\n",
    "                if is_capitalized(raw_token):\n",
    "                    if current_expression is None:\n",
    "                        current_expression = raw_token if raw else lemmatized_token\n",
    "                    else:\n",
    "                        current_expression = f'{current_expression} {raw_token if raw else lemmatized_token}'\n",
    "                # break current streak if you encounter a lower-case word\n",
    "                elif current_expression is not None:\n",
    "                    if not raw:\n",
    "                        current_expression = current_expression.lower()\n",
    "                    expressions[current_expression] += 1\n",
    "                    current_expression = None\n",
    "\n",
    "            # clean up at the end of a sentence\n",
    "            if current_expression is not None:\n",
    "                if not raw:\n",
    "                    current_expression = current_expression.lower()\n",
    "                expressions[current_expression] += 1\n",
    "                current_expression = None\n",
    "    return expressions"
   ]
  },
  {
   "cell_type": "code",
   "execution_count": 17,
   "metadata": {},
   "outputs": [
    {
     "data": {
      "text/plain": [
       "[('numer', 7469),\n",
       " ('minister', 1273),\n",
       " ('dziennik ustaw', 1044),\n",
       " ('artykuł', 1016),\n",
       " ('rzeczpospolita polski', 758),\n",
       " ('kodeks', 524),\n",
       " ('przepis', 475),\n",
       " ('policja', 462),\n",
       " ('skarb państwo', 393),\n",
       " ('prawo', 355),\n",
       " ('organ', 348),\n",
       " ('kasa chory', 301),\n",
       " ('unia europejski', 293),\n",
       " ('straż graniczny', 288),\n",
       " ('minister obrona narodowy', 284),\n",
       " ('rada minister', 280),\n",
       " ('minister sprawiedliwość', 277),\n",
       " ('państwowy komisja wyborczy', 267),\n",
       " ('państwowy straż pożarny', 240),\n",
       " ('minister finanse', 239),\n",
       " ('zakład', 230),\n",
       " ('fundusz', 205),\n",
       " ('rada', 192),\n",
       " ('zmiana', 183),\n",
       " ('prezes urząd', 183),\n",
       " ('dzieje u', 175),\n",
       " ('urząd patentowy', 172),\n",
       " ('dzieje ustawa', 164),\n",
       " ('azot', 162),\n",
       " ('rozdział', 152),\n",
       " ('pozostały', 146),\n",
       " ('urząd ochrona państwo', 141),\n",
       " ('tkanina', 141),\n",
       " ('prezes rada minister', 134),\n",
       " ('inspektor nadzór wewnętrzny', 115),\n",
       " ('efta', 114),\n",
       " ('komisja', 110),\n",
       " ('nawóz', 110),\n",
       " ('biuro', 109),\n",
       " ('administracja', 107),\n",
       " ('europejski obszar gospodarczy', 106),\n",
       " ('p2o5', 106),\n",
       " ('europejski porozumienie', 105),\n",
       " ('wolny handel', 105),\n",
       " ('zamawiać', 103),\n",
       " ('dzieje u numer', 102),\n",
       " ('minister sprawa wewnętrzny', 101),\n",
       " ('art', 95),\n",
       " ('urząd', 95),\n",
       " ('ordynacja', 95)]"
      ]
     },
     "execution_count": 17,
     "metadata": {},
     "output_type": "execute_result"
    }
   ],
   "source": [
    "results = count_capitalized_expressions(lemmatized_acts.values())\n",
    "sorted(results.items(), key=lambda pair: -pair[1])[:50]"
   ]
  },
  {
   "cell_type": "markdown",
   "metadata": {},
   "source": [
    "4. Apply the NER algorithm to identify the named entities in the same set of documents (not lemmatized) using the n82 model.\n"
   ]
  },
  {
   "cell_type": "code",
   "execution_count": 61,
   "metadata": {},
   "outputs": [],
   "source": [
    "from lpmn_client import Task, Config\n",
    "\n",
    "\n",
    "def start_task(text):\n",
    "    task = Task(lpmn='any2txt|wcrft2|liner2({\"model\":\"n82\"})')\n",
    "    task.email = 'mastalerczyk@student.agh.edu.pl'\n",
    "\n",
    "    data = {\n",
    "        'lpmn': 'any2txt|wcrft2|liner2({\"model\":\"n82\"})', \n",
    "        'user': 'mastalerczyk@student.agh.edu.pl', \n",
    "        'text': text\n",
    "    }\n",
    "\n",
    "    return requests.post(\n",
    "        url=Config.get(\"base_url\") + \"/startTask/\",\n",
    "        json=data).text\n",
    "\n",
    "\n",
    "def monitor_task(task_id, max_attempts=5):\n",
    "    status = 'QUEUE'\n",
    "    value = None\n",
    "\n",
    "    attempts = 0\n",
    "    while status != 'DONE' and attempts < max_attempts:\n",
    "        response = requests.get(\n",
    "            url=Config.get(\"base_url\") + f\"/getStatus/{task_id}\"\n",
    "        ).json()\n",
    "        status = response['status']\n",
    "        if status == 'DONE':\n",
    "            value = response['value']\n",
    "        attempts += 1\n",
    "        time.sleep(0.5)\n",
    "\n",
    "    if status == 'ERROR':\n",
    "        print(f'Error: {result}')\n",
    "\n",
    "    return value"
   ]
  },
  {
   "cell_type": "code",
   "execution_count": 62,
   "metadata": {},
   "outputs": [
    {
     "name": "stderr",
     "output_type": "stream",
     "text": [
      "100%|██████████| 50/50 [00:08<00:00,  6.09it/s]\n"
     ]
    }
   ],
   "source": [
    "task_ids = [\n",
    "    start_task(text)\n",
    "    for _, text\n",
    "    in tqdm.tqdm(top_acts.items())\n",
    "]"
   ]
  },
  {
   "cell_type": "code",
   "execution_count": 63,
   "metadata": {},
   "outputs": [
    {
     "data": {
      "text/plain": [
       "['f72c8f46-b952-49cc-803e-df3af7f72f68',\n",
       " '8c8df291-97ce-47e5-aca1-7981b4eac630',\n",
       " '0ff12c6c-bd89-425e-b8c7-78eabf8577ea',\n",
       " '446618f8-a4f9-4dd4-b8c6-8bf4b6eabb9d',\n",
       " '132144e2-2bca-47a8-bde1-bc43aee5d19b',\n",
       " '09d1f4fb-7d79-4faf-a52e-0295cc8fb779',\n",
       " '65307708-73b6-4367-9695-01230692dfc2',\n",
       " '5d947808-67fe-4be1-a701-d184603a36e2',\n",
       " '7936debe-2a9d-4995-bb29-716e072912b3',\n",
       " 'c36dd70d-4eae-45f3-8f7a-8099aaa3ed66',\n",
       " '4c6ade1c-71a6-458b-af77-2d88d2e53ab3',\n",
       " '0e1d693a-eca8-4362-9f11-dadd62320ea4',\n",
       " '94a5ed10-69ff-4f44-975a-a1e9ea50952d',\n",
       " '109abe8c-ce34-48c8-bbcb-07508a4393b5',\n",
       " 'ed73cf12-605c-4986-b9bf-1bc49ad9daed',\n",
       " '859c57d3-a617-4619-a51c-c2f9bf882178',\n",
       " '3fcd0d3b-afd1-4a47-a8de-88a6d51c1fb0',\n",
       " 'feff537b-3643-41ab-b22c-3d26bca9320a',\n",
       " 'b5c953e3-25dc-4214-bfd6-40656616d835',\n",
       " 'de353b0d-28c3-42ef-8a95-ddc36b54a577',\n",
       " '1a7f6e1c-2eaf-4a22-807e-209f84efe1cb',\n",
       " '55ee2ada-a8c6-4ad8-aeff-2fdf61317b7b',\n",
       " '4d55e576-198a-48d6-abcb-a5b1331ccc6c',\n",
       " '57467dbb-1b6c-46a5-a8f0-3e0bdb8837be',\n",
       " 'd310e777-978f-4828-9085-06f293bbccab',\n",
       " 'bf451fd9-b91a-46c5-8f66-8145f7f06962',\n",
       " 'c599ab0e-655f-473b-9ca6-a97158214698',\n",
       " '28729766-303d-438b-9f14-c6361c3a2bd4',\n",
       " '6d13fb82-5c5e-4ca4-b276-4dce13e6ccd1',\n",
       " 'c25c16f3-0d6b-48f1-bf11-d15ed33033bf',\n",
       " 'b4fe57b3-224c-42e3-93ff-b19121e1f9ae',\n",
       " 'f23cb293-5785-494e-be9e-a5be6fd4c426',\n",
       " '4069e1c3-bc07-4a2e-a514-8f76cf8ea017',\n",
       " 'eabe5222-d71d-40c7-a92e-f53ee60877d9',\n",
       " '71adf4f4-0955-40bd-a77e-81e9b6811705',\n",
       " '33f2a946-c244-41c0-8b10-900fe9d221fc',\n",
       " 'ef3cb61a-a747-4ab3-9d46-e376cbdfa97b',\n",
       " '2ababdca-81cd-41be-b9c4-0e484af985ab',\n",
       " 'eb8c1a7c-a794-4835-aab2-acce01e9aabc',\n",
       " '31ef6d98-5162-4d0e-ad58-70016441b5a8',\n",
       " '79c4fb6d-9dc7-4a69-bbbb-51ef295c9035',\n",
       " '3e826839-1a9e-4214-bcba-773bc3ceeb61',\n",
       " 'e87162fa-4743-4c07-83e3-6db021ed4f4b',\n",
       " '5ab100b6-6ff7-4e96-9f18-877132ae88f3',\n",
       " '8ae37c31-34ac-41b9-acb1-c8dff80dc2d0',\n",
       " '2ba8f026-46ec-478d-a873-940565a17860',\n",
       " 'c6a38fdb-c746-46ae-831a-4d92a1910c65',\n",
       " '2265adc0-598c-4a41-bac6-79d70a9d700b',\n",
       " 'a3ff07e6-8685-477e-ad9c-8b34ad7ac757',\n",
       " 'c245116e-e390-463b-9612-727f018fd41d']"
      ]
     },
     "execution_count": 63,
     "metadata": {},
     "output_type": "execute_result"
    }
   ],
   "source": [
    "task_ids"
   ]
  },
  {
   "cell_type": "code",
   "execution_count": 64,
   "metadata": {},
   "outputs": [
    {
     "name": "stderr",
     "output_type": "stream",
     "text": [
      "100%|██████████| 50/50 [12:16<00:00, 14.72s/it]  \n"
     ]
    }
   ],
   "source": [
    "done_tasks = set()\n",
    "\n",
    "with tqdm.tqdm(total=len(top_acts), position=0, leave=True) as pbar:\n",
    "    while pbar.n < pbar.total:\n",
    "        for path, task_id in list(zip(top_acts.keys(), task_ids)):\n",
    "            if task_id in done_tasks:\n",
    "                continue\n",
    "\n",
    "            result = monitor_task(task_id)\n",
    "\n",
    "            if result == None:\n",
    "                continue\n",
    "\n",
    "            file_id = result[0]['fileID']\n",
    "            response = requests.get(\n",
    "                url=Config.get(\"base_url\") + f'/download/{file_id}')\n",
    "\n",
    "            file_name = os.path.relpath(path, './ustawy')\n",
    "            file_name = file_name.replace('.txt', '.ccl')\n",
    "\n",
    "            with open(f'{RESULT_DIRECTORY}/{file_name}', 'w', encoding='utf-8') as file:\n",
    "                file.write(response.content.decode('utf-8'))\n",
    "\n",
    "            done_tasks.add(task_id)\n",
    "\n",
    "            pbar.update()"
   ]
  },
  {
   "cell_type": "markdown",
   "metadata": {},
   "source": [
    "5. Plot the frequency (histogram) of the coarse-grained classes (e.g. nam_adj, nam_eve, nam_fac).\n"
   ]
  },
  {
   "cell_type": "code",
   "execution_count": 66,
   "metadata": {},
   "outputs": [],
   "source": [
    "class Token:\n",
    "    def __init__(self, orth, base, ctag):\n",
    "        self.orth = orth\n",
    "        self.base = base\n",
    "        self.ctag = ctag\n",
    "\n",
    "    def get_orth(self):\n",
    "        return self.orth\n",
    "\n",
    "    def get_base(self):\n",
    "        return self.base\n",
    "\n",
    "    def get_ctag(self):\n",
    "        return self.ctag\n",
    "\n",
    "\n",
    "class Annotation:\n",
    "    def __init__(self, category, tokens):\n",
    "        self.category = category\n",
    "        self.tokens = tokens\n",
    "        self.lemma = self.get_orth()\n",
    "\n",
    "    def get_category(self):\n",
    "        return self.category\n",
    "\n",
    "    def get_tokens(self):\n",
    "        return self.tokens\n",
    "\n",
    "    def get_orth(self):\n",
    "        return \" \".join([token.get_orth() for token in self.tokens])\n",
    "\n",
    "    def get_base(self):\n",
    "        return \" \".join([token.get_base() for token in self.tokens])\n",
    "\n",
    "    def get_ctag(self):\n",
    "        return \" \".join([token.get_ctag() for token in self.tokens])\n",
    "\n",
    "    def get_space(self):\n",
    "        return \" \".join([\"True\" for token in self.tokens])\n",
    "\n",
    "    def get_lemma(self):\n",
    "        return self.lemma\n",
    "\n",
    "    def set_lemma(self, lemma):\n",
    "        self.lemma = lemma\n",
    "\n",
    "    def __str__(self):\n",
    "        return \"[%s] %s\" % (self.get_category(), self.get_lemma())\n"
   ]
  },
  {
   "cell_type": "code",
   "execution_count": 67,
   "metadata": {},
   "outputs": [],
   "source": [
    "import xml.etree.ElementTree as ET\n",
    "\n",
    "def sentence_ner(sentence):\n",
    "    channels = {}\n",
    "    for token in sentence.iter(\"tok\"):\n",
    "        orth = token.find(\"./orth\").text\n",
    "        base = token.find(\"./lex/base\").text\n",
    "        ctag = token.find(\"./lex/ctag\").text\n",
    "        t = Token(orth, base, ctag)\n",
    "        for channel in token.iter(\"ann\"):\n",
    "            index = int(channel.text)\n",
    "            chan = channel.attrib[\"chan\"]\n",
    "            if index > 0:\n",
    "                channels.setdefault(chan, {}) \\\n",
    "                        .setdefault(index, []) \\\n",
    "                        .append(t)\n",
    "\n",
    "    annotations = []\n",
    "    for (ann_type, group) in channels.items():\n",
    "        for tokens in group.values():\n",
    "            an = Annotation(ann_type, tokens)\n",
    "            annotations.append(an)\n",
    "\n",
    "    return annotations\n",
    "\n",
    "\n",
    "def ccl_ner(ccl):\n",
    "    tree = ET.parse(ccl)\n",
    "    annotations = []\n",
    "    for sentence in tree.iter(\"sentence\"):\n",
    "        annotations += sentence_ner(sentence)\n",
    "    return annotations"
   ]
  },
  {
   "cell_type": "code",
   "execution_count": 68,
   "metadata": {},
   "outputs": [
    {
     "name": "stderr",
     "output_type": "stream",
     "text": [
      "100%|██████████| 50/50 [00:47<00:00,  1.06it/s]\n"
     ]
    }
   ],
   "source": [
    "coarse_grained_class_counter = collections.defaultdict(int)\n",
    "\n",
    "for file in tqdm.tqdm([file for file in os.listdir(RESULT_DIRECTORY) if file.endswith('.ccl')]):\n",
    "    annotations = ccl_ner(os.path.join(RESULT_DIRECTORY, file))\n",
    "    for annotation in annotations:\n",
    "        category = annotation.get_category()\n",
    "        coarse_category = '_'.join(category.split('_')[:2])\n",
    "        coarse_grained_class_counter[coarse_category] += 1\n"
   ]
  },
  {
   "cell_type": "code",
   "execution_count": 69,
   "metadata": {},
   "outputs": [
    {
     "data": {
      "text/plain": [
       "<BarContainer object of 9 artists>"
      ]
     },
     "execution_count": 69,
     "metadata": {},
     "output_type": "execute_result"
    },
    {
     "data": {
      "image/png": "[encoded data removed]",
      "text/plain": [
       "<Figure size 1500x800 with 1 Axes>"
      ]
     },
     "metadata": {},
     "output_type": "display_data"
    }
   ],
   "source": [
    "plt.figure(figsize=(15, 8))\n",
    "plt.bar(coarse_grained_class_counter.keys(), coarse_grained_class_counter.values())"
   ]
  },
  {
   "cell_type": "markdown",
   "metadata": {},
   "source": [
    "6. Display 10 most frequent Named Entities for each coarse-grained type.\n"
   ]
  },
  {
   "cell_type": "code",
   "execution_count": 70,
   "metadata": {},
   "outputs": [
    {
     "name": "stderr",
     "output_type": "stream",
     "text": [
      "100%|██████████| 50/50 [00:42<00:00,  1.18it/s]\n"
     ]
    }
   ],
   "source": [
    "coarse_grained_class_entity_counter = collections.defaultdict(lambda: collections.defaultdict(int))\n",
    "\n",
    "for file in tqdm.tqdm([file for file in os.listdir(RESULT_DIRECTORY) if file.endswith('.ccl')]):\n",
    "    annotations = ccl_ner(os.path.join(RESULT_DIRECTORY, file))\n",
    "    for annotation in annotations:\n",
    "        category = annotation.get_category()\n",
    "        entity = annotation.get_lemma()\n",
    "        coarse_category = '_'.join(category.split('_')[:2])\n",
    "        coarse_grained_class_entity_counter[coarse_category][entity] += 1"
   ]
  },
  {
   "cell_type": "code",
   "execution_count": 71,
   "metadata": {},
   "outputs": [
    {
     "name": "stdout",
     "output_type": "stream",
     "text": [
      "-----------------------------------------------------------\n",
      "| nam_pro | 1534 | Dz . U .                               |\n",
      "| nam_pro | 80   | Dz . Urz                               |\n",
      "| nam_pro | 71   | Ordynacja podatkowa                    |\n",
      "| nam_pro | 64   | Kodeksu karnego                        |\n",
      "| nam_pro | 62   | Monitor Polski                         |\n",
      "| nam_pro | 51   | Spraw Wewnętrznych                     |\n",
      "| nam_pro | 35   | Kodeksu postępowania administracyjnego |\n",
      "| nam_pro | 33   | Kodeksu postępowania karnego           |\n",
      "| nam_pro | 32   | Kodeksu postępowania cywilnego         |\n",
      "| nam_pro | 26   | Natura 2000                            |\n",
      "-----------------------------------------------------------\n",
      "| nam_org | 295  | Skarbu Państwa                         |\n",
      "| nam_org | 291  | Unii Europejskiej                      |\n",
      "| nam_org | 261  | Rada Ministrów                         |\n",
      "| nam_org | 239  | Państwowej Straży Pożarnej             |\n",
      "| nam_org | 233  | Minister Sprawiedliwości               |\n",
      "| nam_org | 213  | Prezes Rady Ministrów                  |\n",
      "| nam_org | 162  | Minister Obrony Narodowej              |\n",
      "| nam_org | 152  | Minister Finansów                      |\n",
      "| nam_org | 137  | Urzędu Ochrony Państwa                 |\n",
      "| nam_org | 114  | EFTA                                   |\n",
      "-----------------------------------------------------------\n",
      "| nam_liv | 51   | Kasa Chorych                           |\n",
      "| nam_liv | 36   | Straży Granicznej                      |\n",
      "| nam_liv | 24   | Sił Zbrojnych                          |\n",
      "| nam_liv | 21   | Kasy Chorych                           |\n",
      "| nam_liv | 18   | Art                                    |\n",
      "| nam_liv | 18   | Pana                                   |\n",
      "| nam_liv | 16   | Gospodarki Żywnościowej                |\n",
      "| nam_liv | 15   | Krajowego Depozytu                     |\n",
      "| nam_liv | 15   | Pan                                    |\n",
      "| nam_liv | 13   | Kas Chorych                            |\n",
      "-----------------------------------------------------------\n",
      "| nam_loc | 812  | Rzeczypospolitej Polskiej              |\n",
      "| nam_loc | 52   | Rzeczpospolita Polska                  |\n",
      "| nam_loc | 51   | Polsce                                 |\n",
      "| nam_loc | 39   | Rzeczpospolitą Polską                  |\n",
      "| nam_loc | 32   | Warszawie                              |\n",
      "| nam_loc | 20   | Warszawy                               |\n",
      "| nam_loc | 19   | Nawóz                                  |\n",
      "| nam_loc | 16   | Warszawa                               |\n",
      "| nam_loc | 11   | Konfederacji Szwajcarskiej             |\n",
      "| nam_loc | 10   | Polską                                 |\n",
      "-----------------------------------------------------------\n",
      "| nam_adj | 116  | polski                                 |\n",
      "| nam_adj | 30   | polskiej                               |\n",
      "| nam_adj | 16   | polskiego                              |\n",
      "| nam_adj | 16   | Wojewódzki                             |\n",
      "| nam_adj | 10   | polskim                                |\n",
      "| nam_adj | 9    | polska                                 |\n",
      "| nam_adj | 7    | polskich                               |\n",
      "| nam_adj | 7    | mazowiecki                             |\n",
      "| nam_adj | 7    | polską                                 |\n",
      "| nam_adj | 5    | europejskie                            |\n",
      "-----------------------------------------------------------\n",
      "| nam_oth | 293  | zł                                     |\n",
      "| nam_oth | 89   | euro                                   |\n",
      "| nam_oth | 41   | złotych                                |\n",
      "| nam_oth | 29   | EURO                                   |\n",
      "| nam_oth | 14   | PESEL                                  |\n",
      "| nam_oth | 12   | BAT                                    |\n",
      "| nam_oth | 10   | PLN                                    |\n",
      "| nam_oth | 8    | Minister Edukacji Narodowej            |\n",
      "| nam_oth | 7    | NIP                                    |\n",
      "| nam_oth | 7    | ECU                                    |\n",
      "-----------------------------------------------------------\n",
      "| nam_fac | 49   | Inspektor Nadzoru Wewnętrznego         |\n",
      "| nam_fac | 16   | Komendant Główny                       |\n",
      "| nam_fac | 11   | Straży Granicznej                      |\n",
      "| nam_fac | 8    | Mangan                                 |\n",
      "| nam_fac | 6    | Obrony Narodowej                       |\n",
      "| nam_fac | 5    | Krajowego Rejestru Karnego             |\n",
      "| nam_fac | 4    | Zatoki Gdańskiej                       |\n",
      "| nam_fac | 4    | Molibden                               |\n",
      "| nam_fac | 4    | Zasłużonego Dawcy Przeszczepu          |\n",
      "| nam_fac | 3    | Mn                                     |\n",
      "-----------------------------------------------------------\n",
      "| nam_eve | 5    | EURO                                   |\n",
      "| nam_eve | 2    | Monitorze Sądowym                      |\n",
      "| nam_eve | 2    | Przejściowego Planu Krajowego          |\n",
      "| nam_eve | 1    | II wojny światowej                     |\n",
      "| nam_eve | 1    | Europejskiej Karcie Społecznej         |\n",
      "| nam_eve | 1    | R5 Recykling                           |\n",
      "| nam_eve | 1    | Kodeksu morskiego                      |\n",
      "| nam_eve | 1    | Międzynarodowym Funduszem              |\n",
      "| nam_eve | 1    | Generalny Konserwator Zabytków         |\n",
      "| nam_eve | 1    | Ochrony Roślin                         |\n",
      "-----------------------------------------------------------\n",
      "| nam_num | 13   | 1                                      |\n",
      "| nam_num | 1    | 112                                    |\n",
      "-----------------------------------------------------------\n"
     ]
    }
   ],
   "source": [
    "\n",
    "for category, entities in coarse_grained_class_entity_counter.items():\n",
    "    print('-----------------------------------------------------------')\n",
    "    for entity, count in list(sorted(entities.items(), key=lambda pair: -pair[1]))[:10]:\n",
    "        print(f'| {category} | {str(count).ljust(4)} | {entity.ljust(38)} |')\n",
    "print('-----------------------------------------------------------')"
   ]
  },
  {
   "cell_type": "markdown",
   "metadata": {},
   "source": [
    "7. Display 50 most frequent Named Entities including their count and fine-grained type.\n"
   ]
  },
  {
   "cell_type": "code",
   "execution_count": 72,
   "metadata": {},
   "outputs": [
    {
     "name": "stderr",
     "output_type": "stream",
     "text": [
      "100%|██████████| 50/50 [00:42<00:00,  1.16it/s]\n"
     ]
    }
   ],
   "source": [
    "fine_grained_class_entity_counter = collections.defaultdict(int)\n",
    "\n",
    "for file in tqdm.tqdm([file for file in os.listdir(RESULT_DIRECTORY) if file.endswith('.ccl')]):\n",
    "    annotations = ccl_ner(os.path.join(RESULT_DIRECTORY, file))\n",
    "    for annotation in annotations:\n",
    "        category = annotation.get_category()\n",
    "        entity = annotation.get_lemma()\n",
    "        fine_grained_class_entity_counter[(entity, category)] += 1"
   ]
  },
  {
   "cell_type": "code",
   "execution_count": 73,
   "metadata": {},
   "outputs": [
    {
     "name": "stdout",
     "output_type": "stream",
     "text": [
      "-----------------------------------------------------------------------------------\n",
      "| 1534 | Dz . U .                                        | nam_pro_media_periodic |\n",
      "| 812  | Rzeczypospolitej Polskiej                       | nam_loc_gpe_country    |\n",
      "| 295  | Skarbu Państwa                                  | nam_org_institution    |\n",
      "| 293  | zł                                              | nam_oth_currency       |\n",
      "| 290  | Unii Europejskiej                               | nam_org_organization   |\n",
      "| 261  | Rada Ministrów                                  | nam_org_institution    |\n",
      "| 233  | Minister Sprawiedliwości                        | nam_org_institution    |\n",
      "| 213  | Prezes Rady Ministrów                           | nam_org_institution    |\n",
      "| 205  | Państwowej Straży Pożarnej                      | nam_org_organization   |\n",
      "| 162  | Minister Obrony Narodowej                       | nam_org_institution    |\n",
      "| 152  | Minister Finansów                               | nam_org_institution    |\n",
      "| 137  | Urzędu Ochrony Państwa                          | nam_org_institution    |\n",
      "| 116  | polski                                          | nam_adj_country        |\n",
      "| 114  | EFTA                                            | nam_org_organization   |\n",
      "| 110  | Państwowa Komisja Wyborcza                      | nam_org_institution    |\n",
      "| 104  | Urząd Patentowy                                 | nam_org_institution    |\n",
      "| 103  | Europejskiego Porozumienia o Wolnym Handlu      | nam_org_company        |\n",
      "| 98   | Skarb Państwa                                   | nam_org_institution    |\n",
      "| 98   | Państwowej Komisji Wyborczej                    | nam_org_institution    |\n",
      "| 89   | euro                                            | nam_oth_currency       |\n",
      "| 88   | Prezes Urzędu                                   | nam_org_institution    |\n",
      "| 81   | OKRĘG                                           | nam_org_organization   |\n",
      "| 81   | Okręgowej Komisji Wyborczej                     | nam_org_institution    |\n",
      "| 80   | Dz . Urz                                        | nam_pro_media_periodic |\n",
      "| 73   | Sejmu                                           | nam_org_institution    |\n",
      "| 71   | Ordynacja podatkowa                             | nam_pro_title_document |\n",
      "| 71   | Prezesa Urzędu                                  | nam_org_institution    |\n",
      "| 70   | BSWSG                                           | nam_org_organization   |\n",
      "| 64   | Kodeksu karnego                                 | nam_pro_title_document |\n",
      "| 63   | Ministrem Obrony Narodowej                      | nam_org_institution    |\n",
      "| 62   | Monitor Polski                                  | nam_pro_title          |\n",
      "| 59   | Minister Zdrowia i Opieki Społecznej            | nam_org_institution    |\n",
      "| 57   | Wspólnoty Europejskiej                          | nam_org_organization   |\n",
      "| 55   | WE                                              | nam_org_organization   |\n",
      "| 53   | Komisji Europejskiej                            | nam_org_institution    |\n",
      "| 53   | Sąd Najwyższy                                   | nam_org_institution    |\n",
      "| 52   | Ministra Sprawiedliwości                        | nam_org_institution    |\n",
      "| 52   | Rzeczpospolita Polska                           | nam_loc_gpe_country    |\n",
      "| 51   | Dzienniku Urzędowym Rzeczypospolitej Polskiej \" | nam_org_institution    |\n",
      "| 51   | Polsce                                          | nam_loc_gpe_country    |\n",
      "| 51   | Sądu Najwyższego                                | nam_org_institution    |\n",
      "| 51   | Kasa Chorych                                    | nam_liv_person         |\n",
      "| 51   | Spraw Wewnętrznych                              | nam_pro_title          |\n",
      "| 49   | Senatu                                          | nam_org_institution    |\n",
      "| 49   | Inspektor Nadzoru Wewnętrznego                  | nam_fac_goe            |\n",
      "| 48   | Biura Ochrony Rządu                             | nam_org_institution    |\n",
      "| 47   | Prezes Urzędu Regulacji Energetyki              | nam_org_institution    |\n",
      "| 44   | Straży Granicznej                               | nam_org_institution    |\n",
      "| 44   | Państwową Komisję Wyborczą                      | nam_org_institution    |\n",
      "| 43   | Inspekcji Weterynaryjnej                        | nam_org_institution    |\n",
      "-----------------------------------------------------------------------------------\n"
     ]
    }
   ],
   "source": [
    "sorted_fine_grained_class_entity_counter = sorted(\n",
    "    fine_grained_class_entity_counter.items(),\n",
    "    key=lambda pair: -pair[1]\n",
    ")\n",
    "\n",
    "print('-----------------------------------------------------------------------------------')\n",
    "for entity, count in sorted_fine_grained_class_entity_counter[:50]:\n",
    "    entity, category = entity\n",
    "    print(f'| {str(count).ljust(4)} | {entity.ljust(48)}| {category.ljust(22)} |')\n",
    "print('-----------------------------------------------------------------------------------')\n"
   ]
  },
  {
   "cell_type": "markdown",
   "metadata": {},
   "source": [
    "9. Answer the following questions:\n",
    " - Which of the method (counting expressions with capital letters vs. NER) worked better for the task concerned with identification of the proper names?\n",
    " \n",
    "    NER works better, by default it's the purpose of this tool, it gives more information about categories.\n",
    " \n",
    " - What are the drawbacks of the method based on capital letters?\n",
    "\n",
    "    It has worse accuracy, it requires tokenized text, in tables anything with that starts with capital letters may be wrong classified, problems with handling stop words\n",
    "    \n",
    "    Nie jest taka dokładna (znajdowane jest wiele niepoprawnych wyników). Tekst musi być bardzo dobrze podzielony na tokeny. W tym zadaniu wykorzystaliśmy stokenizowany tekst, natomiast tagi stworzone wcześniej nie zostały użyte.\n",
    " \n",
    " - What are the drawbacks of the method based on NER?\n",
    " \n",
    "    Time consuming model evaluation and it requires a lot of space. Sometimes we may notice duplicates because of different flectional form.\n",
    " \n",
    " - Which of the coarse-grained NER groups has the best and which has the worst results? Try to justify this observation.\n",
    "\n",
    "    With nanm_org we have probably the best result. nam_loc we also have some reasonable result, but there we can observe some duplications, likewise nam_adj.\n",
    "\n",
    "    I think most of the result of nam_pro should have different categories, I wouldn't say it match category 'product'. As well nam_fac - 'Inspektor Nadzoru Wewnętrznego' or 'Komendant Główny' don't sound like facility names. In num_eve we have mixed result, some of them are well classified like 'EURO' or 'II wojny światowej', but then we have for example 'Ochrony Roślin' which doesn't make sene.\n",
    " \n",
    " - Do you think NER is sufficient for identifying different occurrences of the same entity (i.e. consider \"USA\" and \"Stany Zjednoczone\" and \"Stany Zjednoczone Ameryki Północnej\")? If not, can you suggest an algorithm or a tool that would be able to group such names together?\n",
    " \n",
    "     NER can't deal with different forms of words or synonyms, we should use NER only to analyse base forms of words and use some synonym dictionary to identify different forms, maybe utilize Słowosieć.\n",
    " \n",
    " \n",
    " - Can you think of a real world problem that would benefit the most from application of Named Entity Recognition algorithm?\n",
    "\n",
    "    1) Analysis of post in social media\n",
    "    2) Chatbots / SIRI - understandig what person that interacts with the model wants"
   ]
  },
  {
   "cell_type": "code",
   "execution_count": null,
   "metadata": {},
   "outputs": [],
   "source": []
  }
 ],
 "metadata": {
  "kernelspec": {
   "display_name": "umapkernel",
   "language": "python",
   "name": "umapkernel"
  },
  "language_info": {
   "codemirror_mode": {
    "name": "ipython",
    "version": 3
   },
   "file_extension": ".py",
   "mimetype": "text/x-python",
   "name": "python",
   "nbconvert_exporter": "python",
   "pygments_lexer": "ipython3",
   "version": "3.9.12"
  }
 },
 "nbformat": 4,
 "nbformat_minor": 1
}
